{
 "cells": [
  {
   "cell_type": "markdown",
   "id": "e5b92b17",
   "metadata": {},
   "source": [
    "# Предсказание цены автомобиля\n"
   ]
  },
  {
   "cell_type": "code",
   "execution_count": 1,
   "id": "f2a6b292",
   "metadata": {},
   "outputs": [],
   "source": [
    "import pandas as pd\n",
    "import numpy as np\n",
    "\n",
    "from sklearn.ensemble import RandomForestRegressor \n",
    "from sklearn.model_selection import train_test_split\n",
    "from sklearn.model_selection import GridSearchCV\n",
    "from sklearn.preprocessing import OneHotEncoder\n",
    "from sklearn.preprocessing import MinMaxScaler\n",
    "from sklearn.metrics import mean_absolute_error as MAE\n",
    "from sklearn.metrics import mean_squared_error\n",
    "from sklearn.compose import ColumnTransformer\n",
    "\n",
    "import warnings \n",
    "warnings.filterwarnings(\"ignore\")"
   ]
  },
  {
   "cell_type": "code",
   "execution_count": 2,
   "id": "95dba341",
   "metadata": {},
   "outputs": [],
   "source": [
    "train = pd.read_csv('C:/Users/Win 10/Downloads/train_car.csv')"
   ]
  },
  {
   "cell_type": "code",
   "execution_count": 3,
   "id": "73129ba8",
   "metadata": {},
   "outputs": [
    {
     "data": {
      "text/html": [
       "<div>\n",
       "<style scoped>\n",
       "    .dataframe tbody tr th:only-of-type {\n",
       "        vertical-align: middle;\n",
       "    }\n",
       "\n",
       "    .dataframe tbody tr th {\n",
       "        vertical-align: top;\n",
       "    }\n",
       "\n",
       "    .dataframe thead th {\n",
       "        text-align: right;\n",
       "    }\n",
       "</style>\n",
       "<table border=\"1\" class=\"dataframe\">\n",
       "  <thead>\n",
       "    <tr style=\"text-align: right;\">\n",
       "      <th></th>\n",
       "      <th>name</th>\n",
       "      <th>year</th>\n",
       "      <th>selling_price</th>\n",
       "      <th>km_driven</th>\n",
       "      <th>fuel</th>\n",
       "      <th>seller_type</th>\n",
       "      <th>transmission</th>\n",
       "      <th>owner</th>\n",
       "      <th>mileage</th>\n",
       "      <th>engine</th>\n",
       "      <th>max_power</th>\n",
       "      <th>torque</th>\n",
       "      <th>seats</th>\n",
       "    </tr>\n",
       "  </thead>\n",
       "  <tbody>\n",
       "    <tr>\n",
       "      <th>0</th>\n",
       "      <td>Maruti Ignis 1.2 AMT Delta BSIV</td>\n",
       "      <td>2019</td>\n",
       "      <td>525000</td>\n",
       "      <td>20000</td>\n",
       "      <td>Petrol</td>\n",
       "      <td>Individual</td>\n",
       "      <td>Automatic</td>\n",
       "      <td>First Owner</td>\n",
       "      <td>20.89 kmpl</td>\n",
       "      <td>1197 CC</td>\n",
       "      <td>81.80 bhp</td>\n",
       "      <td>113Nm@ 4200rpm</td>\n",
       "      <td>5.0</td>\n",
       "    </tr>\n",
       "    <tr>\n",
       "      <th>1</th>\n",
       "      <td>Tata Indigo CS LX (TDI) BS-III</td>\n",
       "      <td>2015</td>\n",
       "      <td>250000</td>\n",
       "      <td>80000</td>\n",
       "      <td>Diesel</td>\n",
       "      <td>Individual</td>\n",
       "      <td>Manual</td>\n",
       "      <td>Second Owner</td>\n",
       "      <td>19.09 kmpl</td>\n",
       "      <td>1405 CC</td>\n",
       "      <td>69.01 bhp</td>\n",
       "      <td>135Nm@ 2500rpm</td>\n",
       "      <td>5.0</td>\n",
       "    </tr>\n",
       "    <tr>\n",
       "      <th>2</th>\n",
       "      <td>Renault KWID RXT Optional</td>\n",
       "      <td>2016</td>\n",
       "      <td>250000</td>\n",
       "      <td>22000</td>\n",
       "      <td>Petrol</td>\n",
       "      <td>Individual</td>\n",
       "      <td>Manual</td>\n",
       "      <td>First Owner</td>\n",
       "      <td>25.17 kmpl</td>\n",
       "      <td>799 CC</td>\n",
       "      <td>53.3 bhp</td>\n",
       "      <td>72Nm@ 4386rpm</td>\n",
       "      <td>5.0</td>\n",
       "    </tr>\n",
       "    <tr>\n",
       "      <th>3</th>\n",
       "      <td>Land Rover Discovery Sport TD4 SE</td>\n",
       "      <td>2019</td>\n",
       "      <td>4500000</td>\n",
       "      <td>21000</td>\n",
       "      <td>Diesel</td>\n",
       "      <td>Dealer</td>\n",
       "      <td>Automatic</td>\n",
       "      <td>First Owner</td>\n",
       "      <td>12.83 kmpl</td>\n",
       "      <td>1999 CC</td>\n",
       "      <td>148.31 bhp</td>\n",
       "      <td>382nm@ 1750-2250rpm</td>\n",
       "      <td>7.0</td>\n",
       "    </tr>\n",
       "    <tr>\n",
       "      <th>4</th>\n",
       "      <td>Hyundai Verna 1.6 VTVT S Option</td>\n",
       "      <td>2015</td>\n",
       "      <td>700000</td>\n",
       "      <td>25000</td>\n",
       "      <td>Petrol</td>\n",
       "      <td>Individual</td>\n",
       "      <td>Manual</td>\n",
       "      <td>First Owner</td>\n",
       "      <td>17.01 kmpl</td>\n",
       "      <td>1591 CC</td>\n",
       "      <td>121.4 bhp</td>\n",
       "      <td>154.9Nm@ 4200rpm</td>\n",
       "      <td>5.0</td>\n",
       "    </tr>\n",
       "  </tbody>\n",
       "</table>\n",
       "</div>"
      ],
      "text/plain": [
       "                                name  year  selling_price  km_driven    fuel  \\\n",
       "0    Maruti Ignis 1.2 AMT Delta BSIV  2019         525000      20000  Petrol   \n",
       "1     Tata Indigo CS LX (TDI) BS-III  2015         250000      80000  Diesel   \n",
       "2          Renault KWID RXT Optional  2016         250000      22000  Petrol   \n",
       "3  Land Rover Discovery Sport TD4 SE  2019        4500000      21000  Diesel   \n",
       "4    Hyundai Verna 1.6 VTVT S Option  2015         700000      25000  Petrol   \n",
       "\n",
       "  seller_type transmission         owner     mileage   engine   max_power  \\\n",
       "0  Individual    Automatic   First Owner  20.89 kmpl  1197 CC   81.80 bhp   \n",
       "1  Individual       Manual  Second Owner  19.09 kmpl  1405 CC   69.01 bhp   \n",
       "2  Individual       Manual   First Owner  25.17 kmpl   799 CC    53.3 bhp   \n",
       "3      Dealer    Automatic   First Owner  12.83 kmpl  1999 CC  148.31 bhp   \n",
       "4  Individual       Manual   First Owner  17.01 kmpl  1591 CC   121.4 bhp   \n",
       "\n",
       "                torque  seats  \n",
       "0       113Nm@ 4200rpm    5.0  \n",
       "1       135Nm@ 2500rpm    5.0  \n",
       "2        72Nm@ 4386rpm    5.0  \n",
       "3  382nm@ 1750-2250rpm    7.0  \n",
       "4     154.9Nm@ 4200rpm    5.0  "
      ]
     },
     "execution_count": 3,
     "metadata": {},
     "output_type": "execute_result"
    }
   ],
   "source": [
    "train.head()"
   ]
  },
  {
   "cell_type": "code",
   "execution_count": 4,
   "id": "62b28ce6",
   "metadata": {},
   "outputs": [
    {
     "name": "stdout",
     "output_type": "stream",
     "text": [
      "<class 'pandas.core.frame.DataFrame'>\n",
      "RangeIndex: 6502 entries, 0 to 6501\n",
      "Data columns (total 13 columns):\n",
      " #   Column         Non-Null Count  Dtype  \n",
      "---  ------         --------------  -----  \n",
      " 0   name           6502 non-null   object \n",
      " 1   year           6502 non-null   int64  \n",
      " 2   selling_price  6502 non-null   int64  \n",
      " 3   km_driven      6502 non-null   int64  \n",
      " 4   fuel           6502 non-null   object \n",
      " 5   seller_type    6502 non-null   object \n",
      " 6   transmission   6502 non-null   object \n",
      " 7   owner          6502 non-null   object \n",
      " 8   mileage        6328 non-null   object \n",
      " 9   engine         6328 non-null   object \n",
      " 10  max_power      6332 non-null   object \n",
      " 11  torque         6327 non-null   object \n",
      " 12  seats          6328 non-null   float64\n",
      "dtypes: float64(1), int64(3), object(9)\n",
      "memory usage: 660.5+ KB\n"
     ]
    }
   ],
   "source": [
    "train.info()"
   ]
  },
  {
   "cell_type": "code",
   "execution_count": 5,
   "id": "e496452e",
   "metadata": {},
   "outputs": [],
   "source": [
    "train = train.dropna()"
   ]
  },
  {
   "cell_type": "code",
   "execution_count": 6,
   "id": "11d3257c",
   "metadata": {},
   "outputs": [],
   "source": [
    "y = train.selling_price\n",
    "train = train.drop('selling_price',1)"
   ]
  },
  {
   "cell_type": "markdown",
   "id": "58d1d638",
   "metadata": {},
   "source": [
    "# Преобразования"
   ]
  },
  {
   "cell_type": "code",
   "execution_count": 7,
   "id": "4b4d8ddb",
   "metadata": {},
   "outputs": [],
   "source": [
    "def convert_categ(df):\n",
    "    df['name'] = df['name'].apply(lambda x : x.split()[0])\n",
    "    \n",
    "    df['mileage'] = df['mileage'].str.replace(r'[^\\d.]', '', regex=True).apply(lambda x : float(x))\n",
    "\n",
    "    df['engine'] = df['engine'].str.replace(r'[^\\d.]', '', regex=True).apply(lambda x : float(x))\n",
    "\n",
    "    df['max_power'] = df['max_power'].str.replace(r'[^\\d.]', '', regex=True).apply(lambda x : float(x))\n",
    "    \n",
    "    df['torque'] = df['torque'].str.replace(r'[^\\d.]', '_', regex=True).apply(lambda x: float(str(x).split('_')[0]))"
   ]
  },
  {
   "cell_type": "code",
   "execution_count": 8,
   "id": "de5b2b7e",
   "metadata": {},
   "outputs": [
    {
     "data": {
      "text/html": [
       "<div>\n",
       "<style scoped>\n",
       "    .dataframe tbody tr th:only-of-type {\n",
       "        vertical-align: middle;\n",
       "    }\n",
       "\n",
       "    .dataframe tbody tr th {\n",
       "        vertical-align: top;\n",
       "    }\n",
       "\n",
       "    .dataframe thead th {\n",
       "        text-align: right;\n",
       "    }\n",
       "</style>\n",
       "<table border=\"1\" class=\"dataframe\">\n",
       "  <thead>\n",
       "    <tr style=\"text-align: right;\">\n",
       "      <th></th>\n",
       "      <th>name</th>\n",
       "      <th>year</th>\n",
       "      <th>km_driven</th>\n",
       "      <th>fuel</th>\n",
       "      <th>seller_type</th>\n",
       "      <th>transmission</th>\n",
       "      <th>owner</th>\n",
       "      <th>mileage</th>\n",
       "      <th>engine</th>\n",
       "      <th>max_power</th>\n",
       "      <th>torque</th>\n",
       "      <th>seats</th>\n",
       "    </tr>\n",
       "  </thead>\n",
       "  <tbody>\n",
       "    <tr>\n",
       "      <th>0</th>\n",
       "      <td>Maruti</td>\n",
       "      <td>2019</td>\n",
       "      <td>20000</td>\n",
       "      <td>Petrol</td>\n",
       "      <td>Individual</td>\n",
       "      <td>Automatic</td>\n",
       "      <td>First Owner</td>\n",
       "      <td>20.89</td>\n",
       "      <td>1197.0</td>\n",
       "      <td>81.80</td>\n",
       "      <td>113.0</td>\n",
       "      <td>5.0</td>\n",
       "    </tr>\n",
       "    <tr>\n",
       "      <th>1</th>\n",
       "      <td>Tata</td>\n",
       "      <td>2015</td>\n",
       "      <td>80000</td>\n",
       "      <td>Diesel</td>\n",
       "      <td>Individual</td>\n",
       "      <td>Manual</td>\n",
       "      <td>Second Owner</td>\n",
       "      <td>19.09</td>\n",
       "      <td>1405.0</td>\n",
       "      <td>69.01</td>\n",
       "      <td>135.0</td>\n",
       "      <td>5.0</td>\n",
       "    </tr>\n",
       "    <tr>\n",
       "      <th>2</th>\n",
       "      <td>Renault</td>\n",
       "      <td>2016</td>\n",
       "      <td>22000</td>\n",
       "      <td>Petrol</td>\n",
       "      <td>Individual</td>\n",
       "      <td>Manual</td>\n",
       "      <td>First Owner</td>\n",
       "      <td>25.17</td>\n",
       "      <td>799.0</td>\n",
       "      <td>53.30</td>\n",
       "      <td>72.0</td>\n",
       "      <td>5.0</td>\n",
       "    </tr>\n",
       "    <tr>\n",
       "      <th>3</th>\n",
       "      <td>Land</td>\n",
       "      <td>2019</td>\n",
       "      <td>21000</td>\n",
       "      <td>Diesel</td>\n",
       "      <td>Dealer</td>\n",
       "      <td>Automatic</td>\n",
       "      <td>First Owner</td>\n",
       "      <td>12.83</td>\n",
       "      <td>1999.0</td>\n",
       "      <td>148.31</td>\n",
       "      <td>382.0</td>\n",
       "      <td>7.0</td>\n",
       "    </tr>\n",
       "    <tr>\n",
       "      <th>4</th>\n",
       "      <td>Hyundai</td>\n",
       "      <td>2015</td>\n",
       "      <td>25000</td>\n",
       "      <td>Petrol</td>\n",
       "      <td>Individual</td>\n",
       "      <td>Manual</td>\n",
       "      <td>First Owner</td>\n",
       "      <td>17.01</td>\n",
       "      <td>1591.0</td>\n",
       "      <td>121.40</td>\n",
       "      <td>154.9</td>\n",
       "      <td>5.0</td>\n",
       "    </tr>\n",
       "    <tr>\n",
       "      <th>...</th>\n",
       "      <td>...</td>\n",
       "      <td>...</td>\n",
       "      <td>...</td>\n",
       "      <td>...</td>\n",
       "      <td>...</td>\n",
       "      <td>...</td>\n",
       "      <td>...</td>\n",
       "      <td>...</td>\n",
       "      <td>...</td>\n",
       "      <td>...</td>\n",
       "      <td>...</td>\n",
       "      <td>...</td>\n",
       "    </tr>\n",
       "    <tr>\n",
       "      <th>6497</th>\n",
       "      <td>Skoda</td>\n",
       "      <td>2016</td>\n",
       "      <td>11000</td>\n",
       "      <td>Petrol</td>\n",
       "      <td>Dealer</td>\n",
       "      <td>Automatic</td>\n",
       "      <td>First Owner</td>\n",
       "      <td>14.30</td>\n",
       "      <td>1598.0</td>\n",
       "      <td>103.50</td>\n",
       "      <td>153.0</td>\n",
       "      <td>5.0</td>\n",
       "    </tr>\n",
       "    <tr>\n",
       "      <th>6498</th>\n",
       "      <td>Maruti</td>\n",
       "      <td>2012</td>\n",
       "      <td>60000</td>\n",
       "      <td>Petrol</td>\n",
       "      <td>Individual</td>\n",
       "      <td>Manual</td>\n",
       "      <td>First Owner</td>\n",
       "      <td>19.00</td>\n",
       "      <td>998.0</td>\n",
       "      <td>66.10</td>\n",
       "      <td>90.0</td>\n",
       "      <td>5.0</td>\n",
       "    </tr>\n",
       "    <tr>\n",
       "      <th>6499</th>\n",
       "      <td>Maruti</td>\n",
       "      <td>2019</td>\n",
       "      <td>5621</td>\n",
       "      <td>Petrol</td>\n",
       "      <td>Trustmark Dealer</td>\n",
       "      <td>Automatic</td>\n",
       "      <td>First Owner</td>\n",
       "      <td>22.00</td>\n",
       "      <td>1197.0</td>\n",
       "      <td>81.80</td>\n",
       "      <td>113.0</td>\n",
       "      <td>5.0</td>\n",
       "    </tr>\n",
       "    <tr>\n",
       "      <th>6500</th>\n",
       "      <td>Hyundai</td>\n",
       "      <td>2012</td>\n",
       "      <td>120000</td>\n",
       "      <td>Petrol</td>\n",
       "      <td>Individual</td>\n",
       "      <td>Manual</td>\n",
       "      <td>Second Owner</td>\n",
       "      <td>21.10</td>\n",
       "      <td>814.0</td>\n",
       "      <td>55.20</td>\n",
       "      <td>74.5</td>\n",
       "      <td>5.0</td>\n",
       "    </tr>\n",
       "    <tr>\n",
       "      <th>6501</th>\n",
       "      <td>Chevrolet</td>\n",
       "      <td>2015</td>\n",
       "      <td>50000</td>\n",
       "      <td>Petrol</td>\n",
       "      <td>Individual</td>\n",
       "      <td>Manual</td>\n",
       "      <td>First Owner</td>\n",
       "      <td>18.60</td>\n",
       "      <td>1199.0</td>\n",
       "      <td>76.80</td>\n",
       "      <td>106.5</td>\n",
       "      <td>5.0</td>\n",
       "    </tr>\n",
       "  </tbody>\n",
       "</table>\n",
       "<p>6327 rows × 12 columns</p>\n",
       "</div>"
      ],
      "text/plain": [
       "           name  year  km_driven    fuel       seller_type transmission  \\\n",
       "0        Maruti  2019      20000  Petrol        Individual    Automatic   \n",
       "1          Tata  2015      80000  Diesel        Individual       Manual   \n",
       "2       Renault  2016      22000  Petrol        Individual       Manual   \n",
       "3          Land  2019      21000  Diesel            Dealer    Automatic   \n",
       "4       Hyundai  2015      25000  Petrol        Individual       Manual   \n",
       "...         ...   ...        ...     ...               ...          ...   \n",
       "6497      Skoda  2016      11000  Petrol            Dealer    Automatic   \n",
       "6498     Maruti  2012      60000  Petrol        Individual       Manual   \n",
       "6499     Maruti  2019       5621  Petrol  Trustmark Dealer    Automatic   \n",
       "6500    Hyundai  2012     120000  Petrol        Individual       Manual   \n",
       "6501  Chevrolet  2015      50000  Petrol        Individual       Manual   \n",
       "\n",
       "             owner  mileage  engine  max_power  torque  seats  \n",
       "0      First Owner    20.89  1197.0      81.80   113.0    5.0  \n",
       "1     Second Owner    19.09  1405.0      69.01   135.0    5.0  \n",
       "2      First Owner    25.17   799.0      53.30    72.0    5.0  \n",
       "3      First Owner    12.83  1999.0     148.31   382.0    7.0  \n",
       "4      First Owner    17.01  1591.0     121.40   154.9    5.0  \n",
       "...            ...      ...     ...        ...     ...    ...  \n",
       "6497   First Owner    14.30  1598.0     103.50   153.0    5.0  \n",
       "6498   First Owner    19.00   998.0      66.10    90.0    5.0  \n",
       "6499   First Owner    22.00  1197.0      81.80   113.0    5.0  \n",
       "6500  Second Owner    21.10   814.0      55.20    74.5    5.0  \n",
       "6501   First Owner    18.60  1199.0      76.80   106.5    5.0  \n",
       "\n",
       "[6327 rows x 12 columns]"
      ]
     },
     "execution_count": 8,
     "metadata": {},
     "output_type": "execute_result"
    }
   ],
   "source": [
    "convert_categ(train)\n",
    "train"
   ]
  },
  {
   "cell_type": "code",
   "execution_count": 9,
   "id": "24a7b846",
   "metadata": {},
   "outputs": [],
   "source": [
    "categor_index = train.select_dtypes(include=['object']).columns\n",
    "numerical_index = train.select_dtypes(include=[np.number]).columns\n",
    "steps = [('Categorical', OneHotEncoder(handle_unknown='ignore'), categor_index), ('Numerical', MinMaxScaler(), numerical_index)]\n",
    "preprocessor = ColumnTransformer(steps)\n",
    "# label encoder показывал результаты хуже"
   ]
  },
  {
   "cell_type": "code",
   "execution_count": 10,
   "id": "19ed2776",
   "metadata": {},
   "outputs": [],
   "source": [
    "train = preprocessor.fit_transform(train)"
   ]
  },
  {
   "cell_type": "markdown",
   "id": "24caf7e6",
   "metadata": {},
   "source": [
    "# Модель"
   ]
  },
  {
   "cell_type": "code",
   "execution_count": 11,
   "id": "001981e2",
   "metadata": {},
   "outputs": [],
   "source": [
    "X_train, X_test, y_train, y_test = train_test_split(train, y, test_size=0.1, random_state=42)"
   ]
  },
  {
   "cell_type": "code",
   "execution_count": 12,
   "id": "280f46dd",
   "metadata": {},
   "outputs": [],
   "source": [
    "#model = RandomForestRegressor()\n",
    "#paramgrid = {  'max_depth': [10,20,30,50],\n",
    "#               'n_estimators': [100,300,400,500,1000]}\n",
    "#RFRgrid = GridSearchCV(model, param_grid=paramgrid,scoring='neg_mean_squared_error',cv=10)\n",
    "#RFRgrid_result = RFRgrid.fit(X_train, y_train)"
   ]
  },
  {
   "cell_type": "code",
   "execution_count": 13,
   "id": "5e95b1c6",
   "metadata": {},
   "outputs": [
    {
     "data": {
      "text/plain": [
       "RandomForestRegressor(max_depth=20, n_estimators=300, random_state=42)"
      ]
     },
     "execution_count": 13,
     "metadata": {},
     "output_type": "execute_result"
    }
   ],
   "source": [
    "best_model = RandomForestRegressor(n_estimators = 300, max_depth = 20 , random_state = 42)\n",
    "best_model.fit(X_train,y_train)\n",
    "#линейные модели сильно проигрывают в качестве"
   ]
  },
  {
   "cell_type": "code",
   "execution_count": 14,
   "id": "a44e6c30",
   "metadata": {},
   "outputs": [
    {
     "data": {
      "text/plain": [
       "64498.412665858275"
      ]
     },
     "execution_count": 14,
     "metadata": {},
     "output_type": "execute_result"
    }
   ],
   "source": [
    "MAE(y_test,best_model.predict(X_test))"
   ]
  },
  {
   "cell_type": "markdown",
   "id": "717a3e71",
   "metadata": {},
   "source": [
    "# Тест"
   ]
  },
  {
   "cell_type": "code",
   "execution_count": 15,
   "id": "634b9817",
   "metadata": {},
   "outputs": [],
   "source": [
    "test = pd.read_csv('C:/Users/Win 10/Downloads/test_car.csv')"
   ]
  },
  {
   "cell_type": "code",
   "execution_count": 16,
   "id": "6c6b9e29",
   "metadata": {},
   "outputs": [],
   "source": [
    "convert_categ(test)"
   ]
  },
  {
   "cell_type": "code",
   "execution_count": 17,
   "id": "f297fefb",
   "metadata": {},
   "outputs": [],
   "source": [
    "test.fillna(test.median(), inplace = True)"
   ]
  },
  {
   "cell_type": "code",
   "execution_count": 18,
   "id": "69545d88",
   "metadata": {},
   "outputs": [],
   "source": [
    "test = preprocessor.transform(test)"
   ]
  },
  {
   "cell_type": "code",
   "execution_count": 19,
   "id": "9ccd9258",
   "metadata": {},
   "outputs": [
    {
     "data": {
      "text/plain": [
       "array([284784.48323192, 326187.1713034 , 199035.4176936 , ...,\n",
       "       749930.64309873, 376146.32207323, 398725.76451259])"
      ]
     },
     "execution_count": 19,
     "metadata": {},
     "output_type": "execute_result"
    }
   ],
   "source": [
    "best_model.predict(test)"
   ]
  },
  {
   "cell_type": "code",
   "execution_count": null,
   "id": "8d224c72",
   "metadata": {},
   "outputs": [],
   "source": []
  }
 ],
 "metadata": {
  "kernelspec": {
   "display_name": "Python 3",
   "language": "python",
   "name": "python3"
  },
  "language_info": {
   "codemirror_mode": {
    "name": "ipython",
    "version": 3
   },
   "file_extension": ".py",
   "mimetype": "text/x-python",
   "name": "python",
   "nbconvert_exporter": "python",
   "pygments_lexer": "ipython3",
   "version": "3.8.8"
  }
 },
 "nbformat": 4,
 "nbformat_minor": 5
}
