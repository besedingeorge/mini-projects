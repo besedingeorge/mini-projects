{
 "cells": [
  {
   "cell_type": "markdown",
   "id": "ccbc0ea4",
   "metadata": {},
   "source": [
    "# Базовая модель McCall"
   ]
  },
  {
   "cell_type": "code",
   "execution_count": 26,
   "id": "302625cf",
   "metadata": {},
   "outputs": [],
   "source": [
    "%matplotlib inline\n",
    "import pandas as pd\n",
    "import matplotlib.pyplot as plt\n",
    "plt.rcParams[\"figure.figsize\"] = (11, 5)  \n",
    "import numpy as np\n",
    "from numba import jit, float64\n",
    "from numba.experimental import jitclass\n",
    "import quantecon as qe\n",
    "from quantecon.distributions import BetaBinomial\n",
    "import plotly.express as px"
   ]
  },
  {
   "cell_type": "markdown",
   "id": "4575fd7e",
   "metadata": {},
   "source": [
    "### 1) Выгрузка данных(Архангельская область)"
   ]
  },
  {
   "cell_type": "markdown",
   "id": "fc80c3f9",
   "metadata": {},
   "source": [
    "Источник: https://ourcountryindata.ru/raspredelenie-zarplat-v-rossii/"
   ]
  },
  {
   "cell_type": "code",
   "execution_count": 27,
   "id": "03f27288",
   "metadata": {},
   "outputs": [],
   "source": [
    "data = pd.read_excel('C:/Users/Win 10/Downloads/Распределение зарплат.xlsx')"
   ]
  },
  {
   "cell_type": "code",
   "execution_count": 28,
   "id": "6d26d597",
   "metadata": {},
   "outputs": [
    {
     "data": {
      "text/html": [
       "<div>\n",
       "<style scoped>\n",
       "    .dataframe tbody tr th:only-of-type {\n",
       "        vertical-align: middle;\n",
       "    }\n",
       "\n",
       "    .dataframe tbody tr th {\n",
       "        vertical-align: top;\n",
       "    }\n",
       "\n",
       "    .dataframe thead th {\n",
       "        text-align: right;\n",
       "    }\n",
       "</style>\n",
       "<table border=\"1\" class=\"dataframe\">\n",
       "  <thead>\n",
       "    <tr style=\"text-align: right;\">\n",
       "      <th></th>\n",
       "      <th>Регион</th>\n",
       "      <th>Отрасль</th>\n",
       "      <th>&lt;11280</th>\n",
       "      <th>11280–12140</th>\n",
       "      <th>12140–13000</th>\n",
       "      <th>13000–13850</th>\n",
       "      <th>13850–14700</th>\n",
       "      <th>14700–15850</th>\n",
       "      <th>15850–17000</th>\n",
       "      <th>17000–18050</th>\n",
       "      <th>...</th>\n",
       "      <th>33900–40</th>\n",
       "      <th>40–45 тыс.</th>\n",
       "      <th>45–50 тыс.</th>\n",
       "      <th>50–60 тыс.</th>\n",
       "      <th>60–75 тыс.</th>\n",
       "      <th>75–100 тыс.</th>\n",
       "      <th>100–250 тыс.</th>\n",
       "      <th>250–500 тыс.</th>\n",
       "      <th>500тыс – 1 млн</th>\n",
       "      <th>Свыше 1 млн</th>\n",
       "    </tr>\n",
       "  </thead>\n",
       "  <tbody>\n",
       "    <tr>\n",
       "      <th>25</th>\n",
       "      <td>Архангельская область(кроме Ненецкого автономн...</td>\n",
       "      <td>Всего</td>\n",
       "      <td>0.79</td>\n",
       "      <td>0.19</td>\n",
       "      <td>0.27</td>\n",
       "      <td>0.29</td>\n",
       "      <td>0.35</td>\n",
       "      <td>0.46</td>\n",
       "      <td>0.42</td>\n",
       "      <td>0.54</td>\n",
       "      <td>...</td>\n",
       "      <td>10.87</td>\n",
       "      <td>8.36</td>\n",
       "      <td>6.94</td>\n",
       "      <td>10.14</td>\n",
       "      <td>9.87</td>\n",
       "      <td>8.65</td>\n",
       "      <td>7.39</td>\n",
       "      <td>0.34</td>\n",
       "      <td>0.04</td>\n",
       "      <td>0</td>\n",
       "    </tr>\n",
       "  </tbody>\n",
       "</table>\n",
       "<p>1 rows × 30 columns</p>\n",
       "</div>"
      ],
      "text/plain": [
       "                                               Регион Отрасль <11280  \\\n",
       "25  Архангельская область(кроме Ненецкого автономн...   Всего   0.79   \n",
       "\n",
       "   11280–12140 12140–13000 13000–13850 13850–14700 14700–15850 15850–17000  \\\n",
       "25        0.19        0.27        0.29        0.35        0.46        0.42   \n",
       "\n",
       "   17000–18050  ... 33900–40 40–45 тыс. 45–50 тыс. 50–60 тыс. 60–75 тыс.  \\\n",
       "25        0.54  ...    10.87       8.36       6.94      10.14       9.87   \n",
       "\n",
       "   75–100 тыс. 100–250 тыс. 250–500 тыс. 500тыс – 1 млн  Свыше 1 млн  \n",
       "25        8.65         7.39         0.34            0.04           0  \n",
       "\n",
       "[1 rows x 30 columns]"
      ]
     },
     "execution_count": 28,
     "metadata": {},
     "output_type": "execute_result"
    }
   ],
   "source": [
    "data = data[data['Регион'] == 'Архангельская область(кроме Ненецкого автономного округа)'].head(10).iloc[[0],:]\n",
    "data"
   ]
  },
  {
   "cell_type": "code",
   "execution_count": 29,
   "id": "20fdfc5c",
   "metadata": {},
   "outputs": [
    {
     "data": {
      "text/html": [
       "<div>\n",
       "<style scoped>\n",
       "    .dataframe tbody tr th:only-of-type {\n",
       "        vertical-align: middle;\n",
       "    }\n",
       "\n",
       "    .dataframe tbody tr th {\n",
       "        vertical-align: top;\n",
       "    }\n",
       "\n",
       "    .dataframe thead th {\n",
       "        text-align: right;\n",
       "    }\n",
       "</style>\n",
       "<table border=\"1\" class=\"dataframe\">\n",
       "  <thead>\n",
       "    <tr style=\"text-align: right;\">\n",
       "      <th></th>\n",
       "      <th>w</th>\n",
       "      <th>p</th>\n",
       "    </tr>\n",
       "  </thead>\n",
       "  <tbody>\n",
       "    <tr>\n",
       "      <th>0</th>\n",
       "      <td>&lt;11280</td>\n",
       "      <td>0.0079</td>\n",
       "    </tr>\n",
       "    <tr>\n",
       "      <th>1</th>\n",
       "      <td>11280–12140</td>\n",
       "      <td>0.0019</td>\n",
       "    </tr>\n",
       "    <tr>\n",
       "      <th>2</th>\n",
       "      <td>12140–13000</td>\n",
       "      <td>0.0027</td>\n",
       "    </tr>\n",
       "    <tr>\n",
       "      <th>3</th>\n",
       "      <td>13000–13850</td>\n",
       "      <td>0.0029</td>\n",
       "    </tr>\n",
       "    <tr>\n",
       "      <th>4</th>\n",
       "      <td>13850–14700</td>\n",
       "      <td>0.0035</td>\n",
       "    </tr>\n",
       "  </tbody>\n",
       "</table>\n",
       "</div>"
      ],
      "text/plain": [
       "             w       p\n",
       "0       <11280  0.0079\n",
       "1  11280–12140  0.0019\n",
       "2  12140–13000  0.0027\n",
       "3  13000–13850  0.0029\n",
       "4  13850–14700  0.0035"
      ]
     },
     "execution_count": 29,
     "metadata": {},
     "output_type": "execute_result"
    }
   ],
   "source": [
    "data = df1.T.tail(28)\n",
    "data = data.rename(columns={25: 'p'})\n",
    "data = data / 100\n",
    "data = data.reset_index(0).rename(columns={'index': 'w'})\n",
    "data.head()"
   ]
  },
  {
   "cell_type": "code",
   "execution_count": 30,
   "id": "79d6829f",
   "metadata": {},
   "outputs": [
    {
     "data": {
      "text/plain": [
       "1.0"
      ]
     },
     "execution_count": 30,
     "metadata": {},
     "output_type": "execute_result"
    }
   ],
   "source": [
    "#cумма вероятностей должга давать единицу\n",
    "np.sum(data['p'])"
   ]
  },
  {
   "cell_type": "code",
   "execution_count": 31,
   "id": "e7fe6cc0",
   "metadata": {},
   "outputs": [
    {
     "data": {
      "text/html": [
       "<div>\n",
       "<style scoped>\n",
       "    .dataframe tbody tr th:only-of-type {\n",
       "        vertical-align: middle;\n",
       "    }\n",
       "\n",
       "    .dataframe tbody tr th {\n",
       "        vertical-align: top;\n",
       "    }\n",
       "\n",
       "    .dataframe thead th {\n",
       "        text-align: right;\n",
       "    }\n",
       "</style>\n",
       "<table border=\"1\" class=\"dataframe\">\n",
       "  <thead>\n",
       "    <tr style=\"text-align: right;\">\n",
       "      <th></th>\n",
       "      <th>w</th>\n",
       "      <th>p</th>\n",
       "      <th>x_low</th>\n",
       "      <th>x_upper</th>\n",
       "      <th>x_middle</th>\n",
       "    </tr>\n",
       "  </thead>\n",
       "  <tbody>\n",
       "    <tr>\n",
       "      <th>0</th>\n",
       "      <td>&lt;11280</td>\n",
       "      <td>0.0079</td>\n",
       "      <td>0</td>\n",
       "      <td>11280</td>\n",
       "      <td>5640.0</td>\n",
       "    </tr>\n",
       "    <tr>\n",
       "      <th>1</th>\n",
       "      <td>11280–12140</td>\n",
       "      <td>0.0019</td>\n",
       "      <td>11280</td>\n",
       "      <td>12140</td>\n",
       "      <td>11710.0</td>\n",
       "    </tr>\n",
       "    <tr>\n",
       "      <th>2</th>\n",
       "      <td>12140–13000</td>\n",
       "      <td>0.0027</td>\n",
       "      <td>12140</td>\n",
       "      <td>13000</td>\n",
       "      <td>12570.0</td>\n",
       "    </tr>\n",
       "    <tr>\n",
       "      <th>3</th>\n",
       "      <td>13000–13850</td>\n",
       "      <td>0.0029</td>\n",
       "      <td>13000</td>\n",
       "      <td>13850</td>\n",
       "      <td>13425.0</td>\n",
       "    </tr>\n",
       "    <tr>\n",
       "      <th>4</th>\n",
       "      <td>13850–14700</td>\n",
       "      <td>0.0035</td>\n",
       "      <td>13850</td>\n",
       "      <td>14700</td>\n",
       "      <td>14275.0</td>\n",
       "    </tr>\n",
       "  </tbody>\n",
       "</table>\n",
       "</div>"
      ],
      "text/plain": [
       "             w       p  x_low  x_upper  x_middle\n",
       "0       <11280  0.0079      0    11280    5640.0\n",
       "1  11280–12140  0.0019  11280    12140   11710.0\n",
       "2  12140–13000  0.0027  12140    13000   12570.0\n",
       "3  13000–13850  0.0029  13000    13850   13425.0\n",
       "4  13850–14700  0.0035  13850    14700   14275.0"
      ]
     },
     "execution_count": 31,
     "metadata": {},
     "output_type": "execute_result"
    }
   ],
   "source": [
    "x_low = np.array([0,11280,12140,13000, 13850, 14700, 15850, 17000, 18050, 19200, 20350, 21450, 22560, \n",
    "                 23690, 24820, 27100, 29300, 31600, 33900, 40000, 45000, 50000, 60000, 75000, 100000,\n",
    "                 250000, 500000, 1000000])\n",
    "x_upper = np.append(x_low[1:],1500000)\n",
    "data['x_low'] = x_low\n",
    "data['x_upper'] = x_upper\n",
    "data['x_middle'] = (data['x_upper'] + data['x_low'])/2\n",
    "data.head()"
   ]
  },
  {
   "cell_type": "code",
   "execution_count": 32,
   "id": "00c745af",
   "metadata": {},
   "outputs": [
    {
     "data": {
      "application/vnd.plotly.v1+json": {
       "config": {
        "plotlyServerURL": "https://plot.ly"
       },
       "data": [
        {
         "hovertemplate": "w=%{x}<br>p=%{y}<extra></extra>",
         "legendgroup": "",
         "line": {
          "color": "#636efa",
          "dash": "solid"
         },
         "marker": {
          "symbol": "circle"
         },
         "mode": "markers+lines",
         "name": "",
         "orientation": "v",
         "showlegend": false,
         "type": "scatter",
         "x": [
          "<11280",
          "11280–12140",
          "12140–13000",
          "13000–13850",
          "13850–14700",
          "14700–15850",
          "15850–17000",
          "17000–18050",
          "18050–19200",
          "19200–20350",
          "20350–21450",
          "21450–22560",
          "22560–23690",
          "23690–24820",
          "24820–27100",
          "27100–29300",
          "29300–31600",
          "31600–33900",
          "33900–40",
          "40–45 тыс.",
          "45–50 тыс.",
          "50–60 тыс.",
          "60–75 тыс.",
          "75–100 тыс.",
          "100–250 тыс.",
          "250–500 тыс.",
          "500тыс – 1 млн ",
          "Свыше 1 млн"
         ],
         "xaxis": "x",
         "y": [
          0.0079,
          0.0019,
          0.0027,
          0.0029,
          0.0034999999999999996,
          0.0046,
          0.0042,
          0.0054,
          0.045,
          0.026600000000000002,
          0.0174,
          0.0168,
          0.0187,
          0.037000000000000005,
          0.0487,
          0.0424,
          0.0431,
          0.0452,
          0.10869999999999999,
          0.0836,
          0.0694,
          0.1014,
          0.0987,
          0.08650000000000001,
          0.0739,
          0.0034000000000000002,
          0.0004,
          0
         ],
         "yaxis": "y"
        }
       ],
       "layout": {
        "legend": {
         "tracegroupgap": 0
        },
        "margin": {
         "t": 60
        },
        "template": {
         "data": {
          "bar": [
           {
            "error_x": {
             "color": "#2a3f5f"
            },
            "error_y": {
             "color": "#2a3f5f"
            },
            "marker": {
             "line": {
              "color": "#E5ECF6",
              "width": 0.5
             },
             "pattern": {
              "fillmode": "overlay",
              "size": 10,
              "solidity": 0.2
             }
            },
            "type": "bar"
           }
          ],
          "barpolar": [
           {
            "marker": {
             "line": {
              "color": "#E5ECF6",
              "width": 0.5
             },
             "pattern": {
              "fillmode": "overlay",
              "size": 10,
              "solidity": 0.2
             }
            },
            "type": "barpolar"
           }
          ],
          "carpet": [
           {
            "aaxis": {
             "endlinecolor": "#2a3f5f",
             "gridcolor": "white",
             "linecolor": "white",
             "minorgridcolor": "white",
             "startlinecolor": "#2a3f5f"
            },
            "baxis": {
             "endlinecolor": "#2a3f5f",
             "gridcolor": "white",
             "linecolor": "white",
             "minorgridcolor": "white",
             "startlinecolor": "#2a3f5f"
            },
            "type": "carpet"
           }
          ],
          "choropleth": [
           {
            "colorbar": {
             "outlinewidth": 0,
             "ticks": ""
            },
            "type": "choropleth"
           }
          ],
          "contour": [
           {
            "colorbar": {
             "outlinewidth": 0,
             "ticks": ""
            },
            "colorscale": [
             [
              0,
              "#0d0887"
             ],
             [
              0.1111111111111111,
              "#46039f"
             ],
             [
              0.2222222222222222,
              "#7201a8"
             ],
             [
              0.3333333333333333,
              "#9c179e"
             ],
             [
              0.4444444444444444,
              "#bd3786"
             ],
             [
              0.5555555555555556,
              "#d8576b"
             ],
             [
              0.6666666666666666,
              "#ed7953"
             ],
             [
              0.7777777777777778,
              "#fb9f3a"
             ],
             [
              0.8888888888888888,
              "#fdca26"
             ],
             [
              1,
              "#f0f921"
             ]
            ],
            "type": "contour"
           }
          ],
          "contourcarpet": [
           {
            "colorbar": {
             "outlinewidth": 0,
             "ticks": ""
            },
            "type": "contourcarpet"
           }
          ],
          "heatmap": [
           {
            "colorbar": {
             "outlinewidth": 0,
             "ticks": ""
            },
            "colorscale": [
             [
              0,
              "#0d0887"
             ],
             [
              0.1111111111111111,
              "#46039f"
             ],
             [
              0.2222222222222222,
              "#7201a8"
             ],
             [
              0.3333333333333333,
              "#9c179e"
             ],
             [
              0.4444444444444444,
              "#bd3786"
             ],
             [
              0.5555555555555556,
              "#d8576b"
             ],
             [
              0.6666666666666666,
              "#ed7953"
             ],
             [
              0.7777777777777778,
              "#fb9f3a"
             ],
             [
              0.8888888888888888,
              "#fdca26"
             ],
             [
              1,
              "#f0f921"
             ]
            ],
            "type": "heatmap"
           }
          ],
          "heatmapgl": [
           {
            "colorbar": {
             "outlinewidth": 0,
             "ticks": ""
            },
            "colorscale": [
             [
              0,
              "#0d0887"
             ],
             [
              0.1111111111111111,
              "#46039f"
             ],
             [
              0.2222222222222222,
              "#7201a8"
             ],
             [
              0.3333333333333333,
              "#9c179e"
             ],
             [
              0.4444444444444444,
              "#bd3786"
             ],
             [
              0.5555555555555556,
              "#d8576b"
             ],
             [
              0.6666666666666666,
              "#ed7953"
             ],
             [
              0.7777777777777778,
              "#fb9f3a"
             ],
             [
              0.8888888888888888,
              "#fdca26"
             ],
             [
              1,
              "#f0f921"
             ]
            ],
            "type": "heatmapgl"
           }
          ],
          "histogram": [
           {
            "marker": {
             "pattern": {
              "fillmode": "overlay",
              "size": 10,
              "solidity": 0.2
             }
            },
            "type": "histogram"
           }
          ],
          "histogram2d": [
           {
            "colorbar": {
             "outlinewidth": 0,
             "ticks": ""
            },
            "colorscale": [
             [
              0,
              "#0d0887"
             ],
             [
              0.1111111111111111,
              "#46039f"
             ],
             [
              0.2222222222222222,
              "#7201a8"
             ],
             [
              0.3333333333333333,
              "#9c179e"
             ],
             [
              0.4444444444444444,
              "#bd3786"
             ],
             [
              0.5555555555555556,
              "#d8576b"
             ],
             [
              0.6666666666666666,
              "#ed7953"
             ],
             [
              0.7777777777777778,
              "#fb9f3a"
             ],
             [
              0.8888888888888888,
              "#fdca26"
             ],
             [
              1,
              "#f0f921"
             ]
            ],
            "type": "histogram2d"
           }
          ],
          "histogram2dcontour": [
           {
            "colorbar": {
             "outlinewidth": 0,
             "ticks": ""
            },
            "colorscale": [
             [
              0,
              "#0d0887"
             ],
             [
              0.1111111111111111,
              "#46039f"
             ],
             [
              0.2222222222222222,
              "#7201a8"
             ],
             [
              0.3333333333333333,
              "#9c179e"
             ],
             [
              0.4444444444444444,
              "#bd3786"
             ],
             [
              0.5555555555555556,
              "#d8576b"
             ],
             [
              0.6666666666666666,
              "#ed7953"
             ],
             [
              0.7777777777777778,
              "#fb9f3a"
             ],
             [
              0.8888888888888888,
              "#fdca26"
             ],
             [
              1,
              "#f0f921"
             ]
            ],
            "type": "histogram2dcontour"
           }
          ],
          "mesh3d": [
           {
            "colorbar": {
             "outlinewidth": 0,
             "ticks": ""
            },
            "type": "mesh3d"
           }
          ],
          "parcoords": [
           {
            "line": {
             "colorbar": {
              "outlinewidth": 0,
              "ticks": ""
             }
            },
            "type": "parcoords"
           }
          ],
          "pie": [
           {
            "automargin": true,
            "type": "pie"
           }
          ],
          "scatter": [
           {
            "marker": {
             "colorbar": {
              "outlinewidth": 0,
              "ticks": ""
             }
            },
            "type": "scatter"
           }
          ],
          "scatter3d": [
           {
            "line": {
             "colorbar": {
              "outlinewidth": 0,
              "ticks": ""
             }
            },
            "marker": {
             "colorbar": {
              "outlinewidth": 0,
              "ticks": ""
             }
            },
            "type": "scatter3d"
           }
          ],
          "scattercarpet": [
           {
            "marker": {
             "colorbar": {
              "outlinewidth": 0,
              "ticks": ""
             }
            },
            "type": "scattercarpet"
           }
          ],
          "scattergeo": [
           {
            "marker": {
             "colorbar": {
              "outlinewidth": 0,
              "ticks": ""
             }
            },
            "type": "scattergeo"
           }
          ],
          "scattergl": [
           {
            "marker": {
             "colorbar": {
              "outlinewidth": 0,
              "ticks": ""
             }
            },
            "type": "scattergl"
           }
          ],
          "scattermapbox": [
           {
            "marker": {
             "colorbar": {
              "outlinewidth": 0,
              "ticks": ""
             }
            },
            "type": "scattermapbox"
           }
          ],
          "scatterpolar": [
           {
            "marker": {
             "colorbar": {
              "outlinewidth": 0,
              "ticks": ""
             }
            },
            "type": "scatterpolar"
           }
          ],
          "scatterpolargl": [
           {
            "marker": {
             "colorbar": {
              "outlinewidth": 0,
              "ticks": ""
             }
            },
            "type": "scatterpolargl"
           }
          ],
          "scatterternary": [
           {
            "marker": {
             "colorbar": {
              "outlinewidth": 0,
              "ticks": ""
             }
            },
            "type": "scatterternary"
           }
          ],
          "surface": [
           {
            "colorbar": {
             "outlinewidth": 0,
             "ticks": ""
            },
            "colorscale": [
             [
              0,
              "#0d0887"
             ],
             [
              0.1111111111111111,
              "#46039f"
             ],
             [
              0.2222222222222222,
              "#7201a8"
             ],
             [
              0.3333333333333333,
              "#9c179e"
             ],
             [
              0.4444444444444444,
              "#bd3786"
             ],
             [
              0.5555555555555556,
              "#d8576b"
             ],
             [
              0.6666666666666666,
              "#ed7953"
             ],
             [
              0.7777777777777778,
              "#fb9f3a"
             ],
             [
              0.8888888888888888,
              "#fdca26"
             ],
             [
              1,
              "#f0f921"
             ]
            ],
            "type": "surface"
           }
          ],
          "table": [
           {
            "cells": {
             "fill": {
              "color": "#EBF0F8"
             },
             "line": {
              "color": "white"
             }
            },
            "header": {
             "fill": {
              "color": "#C8D4E3"
             },
             "line": {
              "color": "white"
             }
            },
            "type": "table"
           }
          ]
         },
         "layout": {
          "annotationdefaults": {
           "arrowcolor": "#2a3f5f",
           "arrowhead": 0,
           "arrowwidth": 1
          },
          "autotypenumbers": "strict",
          "coloraxis": {
           "colorbar": {
            "outlinewidth": 0,
            "ticks": ""
           }
          },
          "colorscale": {
           "diverging": [
            [
             0,
             "#8e0152"
            ],
            [
             0.1,
             "#c51b7d"
            ],
            [
             0.2,
             "#de77ae"
            ],
            [
             0.3,
             "#f1b6da"
            ],
            [
             0.4,
             "#fde0ef"
            ],
            [
             0.5,
             "#f7f7f7"
            ],
            [
             0.6,
             "#e6f5d0"
            ],
            [
             0.7,
             "#b8e186"
            ],
            [
             0.8,
             "#7fbc41"
            ],
            [
             0.9,
             "#4d9221"
            ],
            [
             1,
             "#276419"
            ]
           ],
           "sequential": [
            [
             0,
             "#0d0887"
            ],
            [
             0.1111111111111111,
             "#46039f"
            ],
            [
             0.2222222222222222,
             "#7201a8"
            ],
            [
             0.3333333333333333,
             "#9c179e"
            ],
            [
             0.4444444444444444,
             "#bd3786"
            ],
            [
             0.5555555555555556,
             "#d8576b"
            ],
            [
             0.6666666666666666,
             "#ed7953"
            ],
            [
             0.7777777777777778,
             "#fb9f3a"
            ],
            [
             0.8888888888888888,
             "#fdca26"
            ],
            [
             1,
             "#f0f921"
            ]
           ],
           "sequentialminus": [
            [
             0,
             "#0d0887"
            ],
            [
             0.1111111111111111,
             "#46039f"
            ],
            [
             0.2222222222222222,
             "#7201a8"
            ],
            [
             0.3333333333333333,
             "#9c179e"
            ],
            [
             0.4444444444444444,
             "#bd3786"
            ],
            [
             0.5555555555555556,
             "#d8576b"
            ],
            [
             0.6666666666666666,
             "#ed7953"
            ],
            [
             0.7777777777777778,
             "#fb9f3a"
            ],
            [
             0.8888888888888888,
             "#fdca26"
            ],
            [
             1,
             "#f0f921"
            ]
           ]
          },
          "colorway": [
           "#636efa",
           "#EF553B",
           "#00cc96",
           "#ab63fa",
           "#FFA15A",
           "#19d3f3",
           "#FF6692",
           "#B6E880",
           "#FF97FF",
           "#FECB52"
          ],
          "font": {
           "color": "#2a3f5f"
          },
          "geo": {
           "bgcolor": "white",
           "lakecolor": "white",
           "landcolor": "#E5ECF6",
           "showlakes": true,
           "showland": true,
           "subunitcolor": "white"
          },
          "hoverlabel": {
           "align": "left"
          },
          "hovermode": "closest",
          "mapbox": {
           "style": "light"
          },
          "paper_bgcolor": "white",
          "plot_bgcolor": "#E5ECF6",
          "polar": {
           "angularaxis": {
            "gridcolor": "white",
            "linecolor": "white",
            "ticks": ""
           },
           "bgcolor": "#E5ECF6",
           "radialaxis": {
            "gridcolor": "white",
            "linecolor": "white",
            "ticks": ""
           }
          },
          "scene": {
           "xaxis": {
            "backgroundcolor": "#E5ECF6",
            "gridcolor": "white",
            "gridwidth": 2,
            "linecolor": "white",
            "showbackground": true,
            "ticks": "",
            "zerolinecolor": "white"
           },
           "yaxis": {
            "backgroundcolor": "#E5ECF6",
            "gridcolor": "white",
            "gridwidth": 2,
            "linecolor": "white",
            "showbackground": true,
            "ticks": "",
            "zerolinecolor": "white"
           },
           "zaxis": {
            "backgroundcolor": "#E5ECF6",
            "gridcolor": "white",
            "gridwidth": 2,
            "linecolor": "white",
            "showbackground": true,
            "ticks": "",
            "zerolinecolor": "white"
           }
          },
          "shapedefaults": {
           "line": {
            "color": "#2a3f5f"
           }
          },
          "ternary": {
           "aaxis": {
            "gridcolor": "white",
            "linecolor": "white",
            "ticks": ""
           },
           "baxis": {
            "gridcolor": "white",
            "linecolor": "white",
            "ticks": ""
           },
           "bgcolor": "#E5ECF6",
           "caxis": {
            "gridcolor": "white",
            "linecolor": "white",
            "ticks": ""
           }
          },
          "title": {
           "x": 0.05
          },
          "xaxis": {
           "automargin": true,
           "gridcolor": "white",
           "linecolor": "white",
           "ticks": "",
           "title": {
            "standoff": 15
           },
           "zerolinecolor": "white",
           "zerolinewidth": 2
          },
          "yaxis": {
           "automargin": true,
           "gridcolor": "white",
           "linecolor": "white",
           "ticks": "",
           "title": {
            "standoff": 15
           },
           "zerolinecolor": "white",
           "zerolinewidth": 2
          }
         }
        },
        "title": {
         "text": "Вероятность получить ту или иную зп"
        },
        "xaxis": {
         "anchor": "y",
         "domain": [
          0,
          1
         ],
         "title": {
          "text": "w"
         }
        },
        "yaxis": {
         "anchor": "x",
         "domain": [
          0,
          1
         ],
         "title": {
          "text": "p"
         }
        }
       }
      },
      "text/html": [
       "<div>                            <div id=\"f63bd91c-c25d-413c-b857-88a29abd37fb\" class=\"plotly-graph-div\" style=\"height:525px; width:100%;\"></div>            <script type=\"text/javascript\">                require([\"plotly\"], function(Plotly) {                    window.PLOTLYENV=window.PLOTLYENV || {};                                    if (document.getElementById(\"f63bd91c-c25d-413c-b857-88a29abd37fb\")) {                    Plotly.newPlot(                        \"f63bd91c-c25d-413c-b857-88a29abd37fb\",                        [{\"hovertemplate\":\"w=%{x}<br>p=%{y}<extra></extra>\",\"legendgroup\":\"\",\"line\":{\"color\":\"#636efa\",\"dash\":\"solid\"},\"marker\":{\"symbol\":\"circle\"},\"mode\":\"markers+lines\",\"name\":\"\",\"orientation\":\"v\",\"showlegend\":false,\"type\":\"scatter\",\"x\":[\"<11280\",\"11280\\u201312140\",\"12140\\u201313000\",\"13000\\u201313850\",\"13850\\u201314700\",\"14700\\u201315850\",\"15850\\u201317000\",\"17000\\u201318050\",\"18050\\u201319200\",\"19200\\u201320350\",\"20350\\u201321450\",\"21450\\u201322560\",\"22560\\u201323690\",\"23690\\u201324820\",\"24820\\u201327100\",\"27100\\u201329300\",\"29300\\u201331600\",\"31600\\u201333900\",\"33900\\u201340\",\"40\\u201345 \\u0442\\u044b\\u0441.\",\"45\\u201350 \\u0442\\u044b\\u0441.\",\"50\\u201360 \\u0442\\u044b\\u0441.\",\"60\\u201375 \\u0442\\u044b\\u0441.\",\"75\\u2013100 \\u0442\\u044b\\u0441.\",\"100\\u2013250 \\u0442\\u044b\\u0441.\",\"250\\u2013500 \\u0442\\u044b\\u0441.\",\"500\\u0442\\u044b\\u0441 \\u2013 1 \\u043c\\u043b\\u043d \",\"\\u0421\\u0432\\u044b\\u0448\\u0435 1 \\u043c\\u043b\\u043d\"],\"xaxis\":\"x\",\"y\":[0.0079,0.0019,0.0027,0.0029,0.0034999999999999996,0.0046,0.0042,0.0054,0.045,0.026600000000000002,0.0174,0.0168,0.0187,0.037000000000000005,0.0487,0.0424,0.0431,0.0452,0.10869999999999999,0.0836,0.0694,0.1014,0.0987,0.08650000000000001,0.0739,0.0034000000000000002,0.0004,0.0],\"yaxis\":\"y\"}],                        {\"legend\":{\"tracegroupgap\":0},\"margin\":{\"t\":60},\"template\":{\"data\":{\"bar\":[{\"error_x\":{\"color\":\"#2a3f5f\"},\"error_y\":{\"color\":\"#2a3f5f\"},\"marker\":{\"line\":{\"color\":\"#E5ECF6\",\"width\":0.5},\"pattern\":{\"fillmode\":\"overlay\",\"size\":10,\"solidity\":0.2}},\"type\":\"bar\"}],\"barpolar\":[{\"marker\":{\"line\":{\"color\":\"#E5ECF6\",\"width\":0.5},\"pattern\":{\"fillmode\":\"overlay\",\"size\":10,\"solidity\":0.2}},\"type\":\"barpolar\"}],\"carpet\":[{\"aaxis\":{\"endlinecolor\":\"#2a3f5f\",\"gridcolor\":\"white\",\"linecolor\":\"white\",\"minorgridcolor\":\"white\",\"startlinecolor\":\"#2a3f5f\"},\"baxis\":{\"endlinecolor\":\"#2a3f5f\",\"gridcolor\":\"white\",\"linecolor\":\"white\",\"minorgridcolor\":\"white\",\"startlinecolor\":\"#2a3f5f\"},\"type\":\"carpet\"}],\"choropleth\":[{\"colorbar\":{\"outlinewidth\":0,\"ticks\":\"\"},\"type\":\"choropleth\"}],\"contour\":[{\"colorbar\":{\"outlinewidth\":0,\"ticks\":\"\"},\"colorscale\":[[0.0,\"#0d0887\"],[0.1111111111111111,\"#46039f\"],[0.2222222222222222,\"#7201a8\"],[0.3333333333333333,\"#9c179e\"],[0.4444444444444444,\"#bd3786\"],[0.5555555555555556,\"#d8576b\"],[0.6666666666666666,\"#ed7953\"],[0.7777777777777778,\"#fb9f3a\"],[0.8888888888888888,\"#fdca26\"],[1.0,\"#f0f921\"]],\"type\":\"contour\"}],\"contourcarpet\":[{\"colorbar\":{\"outlinewidth\":0,\"ticks\":\"\"},\"type\":\"contourcarpet\"}],\"heatmap\":[{\"colorbar\":{\"outlinewidth\":0,\"ticks\":\"\"},\"colorscale\":[[0.0,\"#0d0887\"],[0.1111111111111111,\"#46039f\"],[0.2222222222222222,\"#7201a8\"],[0.3333333333333333,\"#9c179e\"],[0.4444444444444444,\"#bd3786\"],[0.5555555555555556,\"#d8576b\"],[0.6666666666666666,\"#ed7953\"],[0.7777777777777778,\"#fb9f3a\"],[0.8888888888888888,\"#fdca26\"],[1.0,\"#f0f921\"]],\"type\":\"heatmap\"}],\"heatmapgl\":[{\"colorbar\":{\"outlinewidth\":0,\"ticks\":\"\"},\"colorscale\":[[0.0,\"#0d0887\"],[0.1111111111111111,\"#46039f\"],[0.2222222222222222,\"#7201a8\"],[0.3333333333333333,\"#9c179e\"],[0.4444444444444444,\"#bd3786\"],[0.5555555555555556,\"#d8576b\"],[0.6666666666666666,\"#ed7953\"],[0.7777777777777778,\"#fb9f3a\"],[0.8888888888888888,\"#fdca26\"],[1.0,\"#f0f921\"]],\"type\":\"heatmapgl\"}],\"histogram\":[{\"marker\":{\"pattern\":{\"fillmode\":\"overlay\",\"size\":10,\"solidity\":0.2}},\"type\":\"histogram\"}],\"histogram2d\":[{\"colorbar\":{\"outlinewidth\":0,\"ticks\":\"\"},\"colorscale\":[[0.0,\"#0d0887\"],[0.1111111111111111,\"#46039f\"],[0.2222222222222222,\"#7201a8\"],[0.3333333333333333,\"#9c179e\"],[0.4444444444444444,\"#bd3786\"],[0.5555555555555556,\"#d8576b\"],[0.6666666666666666,\"#ed7953\"],[0.7777777777777778,\"#fb9f3a\"],[0.8888888888888888,\"#fdca26\"],[1.0,\"#f0f921\"]],\"type\":\"histogram2d\"}],\"histogram2dcontour\":[{\"colorbar\":{\"outlinewidth\":0,\"ticks\":\"\"},\"colorscale\":[[0.0,\"#0d0887\"],[0.1111111111111111,\"#46039f\"],[0.2222222222222222,\"#7201a8\"],[0.3333333333333333,\"#9c179e\"],[0.4444444444444444,\"#bd3786\"],[0.5555555555555556,\"#d8576b\"],[0.6666666666666666,\"#ed7953\"],[0.7777777777777778,\"#fb9f3a\"],[0.8888888888888888,\"#fdca26\"],[1.0,\"#f0f921\"]],\"type\":\"histogram2dcontour\"}],\"mesh3d\":[{\"colorbar\":{\"outlinewidth\":0,\"ticks\":\"\"},\"type\":\"mesh3d\"}],\"parcoords\":[{\"line\":{\"colorbar\":{\"outlinewidth\":0,\"ticks\":\"\"}},\"type\":\"parcoords\"}],\"pie\":[{\"automargin\":true,\"type\":\"pie\"}],\"scatter\":[{\"marker\":{\"colorbar\":{\"outlinewidth\":0,\"ticks\":\"\"}},\"type\":\"scatter\"}],\"scatter3d\":[{\"line\":{\"colorbar\":{\"outlinewidth\":0,\"ticks\":\"\"}},\"marker\":{\"colorbar\":{\"outlinewidth\":0,\"ticks\":\"\"}},\"type\":\"scatter3d\"}],\"scattercarpet\":[{\"marker\":{\"colorbar\":{\"outlinewidth\":0,\"ticks\":\"\"}},\"type\":\"scattercarpet\"}],\"scattergeo\":[{\"marker\":{\"colorbar\":{\"outlinewidth\":0,\"ticks\":\"\"}},\"type\":\"scattergeo\"}],\"scattergl\":[{\"marker\":{\"colorbar\":{\"outlinewidth\":0,\"ticks\":\"\"}},\"type\":\"scattergl\"}],\"scattermapbox\":[{\"marker\":{\"colorbar\":{\"outlinewidth\":0,\"ticks\":\"\"}},\"type\":\"scattermapbox\"}],\"scatterpolar\":[{\"marker\":{\"colorbar\":{\"outlinewidth\":0,\"ticks\":\"\"}},\"type\":\"scatterpolar\"}],\"scatterpolargl\":[{\"marker\":{\"colorbar\":{\"outlinewidth\":0,\"ticks\":\"\"}},\"type\":\"scatterpolargl\"}],\"scatterternary\":[{\"marker\":{\"colorbar\":{\"outlinewidth\":0,\"ticks\":\"\"}},\"type\":\"scatterternary\"}],\"surface\":[{\"colorbar\":{\"outlinewidth\":0,\"ticks\":\"\"},\"colorscale\":[[0.0,\"#0d0887\"],[0.1111111111111111,\"#46039f\"],[0.2222222222222222,\"#7201a8\"],[0.3333333333333333,\"#9c179e\"],[0.4444444444444444,\"#bd3786\"],[0.5555555555555556,\"#d8576b\"],[0.6666666666666666,\"#ed7953\"],[0.7777777777777778,\"#fb9f3a\"],[0.8888888888888888,\"#fdca26\"],[1.0,\"#f0f921\"]],\"type\":\"surface\"}],\"table\":[{\"cells\":{\"fill\":{\"color\":\"#EBF0F8\"},\"line\":{\"color\":\"white\"}},\"header\":{\"fill\":{\"color\":\"#C8D4E3\"},\"line\":{\"color\":\"white\"}},\"type\":\"table\"}]},\"layout\":{\"annotationdefaults\":{\"arrowcolor\":\"#2a3f5f\",\"arrowhead\":0,\"arrowwidth\":1},\"autotypenumbers\":\"strict\",\"coloraxis\":{\"colorbar\":{\"outlinewidth\":0,\"ticks\":\"\"}},\"colorscale\":{\"diverging\":[[0,\"#8e0152\"],[0.1,\"#c51b7d\"],[0.2,\"#de77ae\"],[0.3,\"#f1b6da\"],[0.4,\"#fde0ef\"],[0.5,\"#f7f7f7\"],[0.6,\"#e6f5d0\"],[0.7,\"#b8e186\"],[0.8,\"#7fbc41\"],[0.9,\"#4d9221\"],[1,\"#276419\"]],\"sequential\":[[0.0,\"#0d0887\"],[0.1111111111111111,\"#46039f\"],[0.2222222222222222,\"#7201a8\"],[0.3333333333333333,\"#9c179e\"],[0.4444444444444444,\"#bd3786\"],[0.5555555555555556,\"#d8576b\"],[0.6666666666666666,\"#ed7953\"],[0.7777777777777778,\"#fb9f3a\"],[0.8888888888888888,\"#fdca26\"],[1.0,\"#f0f921\"]],\"sequentialminus\":[[0.0,\"#0d0887\"],[0.1111111111111111,\"#46039f\"],[0.2222222222222222,\"#7201a8\"],[0.3333333333333333,\"#9c179e\"],[0.4444444444444444,\"#bd3786\"],[0.5555555555555556,\"#d8576b\"],[0.6666666666666666,\"#ed7953\"],[0.7777777777777778,\"#fb9f3a\"],[0.8888888888888888,\"#fdca26\"],[1.0,\"#f0f921\"]]},\"colorway\":[\"#636efa\",\"#EF553B\",\"#00cc96\",\"#ab63fa\",\"#FFA15A\",\"#19d3f3\",\"#FF6692\",\"#B6E880\",\"#FF97FF\",\"#FECB52\"],\"font\":{\"color\":\"#2a3f5f\"},\"geo\":{\"bgcolor\":\"white\",\"lakecolor\":\"white\",\"landcolor\":\"#E5ECF6\",\"showlakes\":true,\"showland\":true,\"subunitcolor\":\"white\"},\"hoverlabel\":{\"align\":\"left\"},\"hovermode\":\"closest\",\"mapbox\":{\"style\":\"light\"},\"paper_bgcolor\":\"white\",\"plot_bgcolor\":\"#E5ECF6\",\"polar\":{\"angularaxis\":{\"gridcolor\":\"white\",\"linecolor\":\"white\",\"ticks\":\"\"},\"bgcolor\":\"#E5ECF6\",\"radialaxis\":{\"gridcolor\":\"white\",\"linecolor\":\"white\",\"ticks\":\"\"}},\"scene\":{\"xaxis\":{\"backgroundcolor\":\"#E5ECF6\",\"gridcolor\":\"white\",\"gridwidth\":2,\"linecolor\":\"white\",\"showbackground\":true,\"ticks\":\"\",\"zerolinecolor\":\"white\"},\"yaxis\":{\"backgroundcolor\":\"#E5ECF6\",\"gridcolor\":\"white\",\"gridwidth\":2,\"linecolor\":\"white\",\"showbackground\":true,\"ticks\":\"\",\"zerolinecolor\":\"white\"},\"zaxis\":{\"backgroundcolor\":\"#E5ECF6\",\"gridcolor\":\"white\",\"gridwidth\":2,\"linecolor\":\"white\",\"showbackground\":true,\"ticks\":\"\",\"zerolinecolor\":\"white\"}},\"shapedefaults\":{\"line\":{\"color\":\"#2a3f5f\"}},\"ternary\":{\"aaxis\":{\"gridcolor\":\"white\",\"linecolor\":\"white\",\"ticks\":\"\"},\"baxis\":{\"gridcolor\":\"white\",\"linecolor\":\"white\",\"ticks\":\"\"},\"bgcolor\":\"#E5ECF6\",\"caxis\":{\"gridcolor\":\"white\",\"linecolor\":\"white\",\"ticks\":\"\"}},\"title\":{\"x\":0.05},\"xaxis\":{\"automargin\":true,\"gridcolor\":\"white\",\"linecolor\":\"white\",\"ticks\":\"\",\"title\":{\"standoff\":15},\"zerolinecolor\":\"white\",\"zerolinewidth\":2},\"yaxis\":{\"automargin\":true,\"gridcolor\":\"white\",\"linecolor\":\"white\",\"ticks\":\"\",\"title\":{\"standoff\":15},\"zerolinecolor\":\"white\",\"zerolinewidth\":2}}},\"title\":{\"text\":\"\\u0412\\u0435\\u0440\\u043e\\u044f\\u0442\\u043d\\u043e\\u0441\\u0442\\u044c \\u043f\\u043e\\u043b\\u0443\\u0447\\u0438\\u0442\\u044c \\u0442\\u0443 \\u0438\\u043b\\u0438 \\u0438\\u043d\\u0443\\u044e \\u0437\\u043f\"},\"xaxis\":{\"anchor\":\"y\",\"domain\":[0.0,1.0],\"title\":{\"text\":\"w\"}},\"yaxis\":{\"anchor\":\"x\",\"domain\":[0.0,1.0],\"title\":{\"text\":\"p\"}}},                        {\"responsive\": true}                    ).then(function(){\n",
       "                            \n",
       "var gd = document.getElementById('f63bd91c-c25d-413c-b857-88a29abd37fb');\n",
       "var x = new MutationObserver(function (mutations, observer) {{\n",
       "        var display = window.getComputedStyle(gd).display;\n",
       "        if (!display || display === 'none') {{\n",
       "            console.log([gd, 'removed!']);\n",
       "            Plotly.purge(gd);\n",
       "            observer.disconnect();\n",
       "        }}\n",
       "}});\n",
       "\n",
       "// Listen for the removal of the full notebook cells\n",
       "var notebookContainer = gd.closest('#notebook-container');\n",
       "if (notebookContainer) {{\n",
       "    x.observe(notebookContainer, {childList: true});\n",
       "}}\n",
       "\n",
       "// Listen for the clearing of the current output cell\n",
       "var outputEl = gd.closest('.output');\n",
       "if (outputEl) {{\n",
       "    x.observe(outputEl, {childList: true});\n",
       "}}\n",
       "\n",
       "                        })                };                });            </script>        </div>"
      ]
     },
     "metadata": {},
     "output_type": "display_data"
    }
   ],
   "source": [
    "fig = px.line(data, x = 'w', y = 'p', markers=True)\n",
    "fig.update_layout(title='Вероятность получить ту или иную зп')\n",
    "fig.show()"
   ]
  },
  {
   "cell_type": "markdown",
   "id": "8c6a3dbf",
   "metadata": {},
   "source": [
    "### 2) Максимальный размер безработицы"
   ]
  },
  {
   "cell_type": "markdown",
   "id": "d7308975",
   "metadata": {},
   "source": [
    "http://www.consultant.ru/law/hotdocs/55695.html/"
   ]
  },
  {
   "cell_type": "code",
   "execution_count": 33,
   "id": "1d76b2e7",
   "metadata": {},
   "outputs": [],
   "source": [
    "c = 11280"
   ]
  },
  {
   "cell_type": "markdown",
   "id": "f7240741",
   "metadata": {},
   "source": [
    "### 3) Параметр дисконтирования"
   ]
  },
  {
   "cell_type": "markdown",
   "id": "893eaa2c",
   "metadata": {},
   "source": [
    "https://cbr.ru/hd_base/KeyRate/"
   ]
  },
  {
   "cell_type": "code",
   "execution_count": 34,
   "id": "5dea3440",
   "metadata": {
    "scrolled": true
   },
   "outputs": [
    {
     "data": {
      "text/plain": [
       "0.934215648112106"
      ]
     },
     "execution_count": 34,
     "metadata": {},
     "output_type": "execute_result"
    }
   ],
   "source": [
    "#ставка цб в 2019 году менялась,берем среднюю\n",
    "\n",
    "r=(7.75+7.5+7.25+7+6.5+6.25)/6\n",
    "beta=1/(1+r/100)\n",
    "beta"
   ]
  },
  {
   "cell_type": "markdown",
   "id": "d91a1c04",
   "metadata": {},
   "source": [
    "### 4) CRRA функция полезности"
   ]
  },
  {
   "cell_type": "code",
   "execution_count": 35,
   "id": "b6c92b4a",
   "metadata": {},
   "outputs": [],
   "source": [
    "def u(y, σ=2.0):\n",
    "    if σ != 1:\n",
    "        return (y**(1 - σ) - 1) / (1 - σ)\n",
    "    else:\n",
    "        a = (y**(1 - 1.0001) - 1) / (1 - 1.0001) \n",
    "        b = (y**(1 - 0.9999) - 1) / (1 - 0.9999)\n",
    "        return (a+b)/2"
   ]
  },
  {
   "cell_type": "markdown",
   "id": "0d6dc15b",
   "metadata": {},
   "source": [
    "### 5) McCall 1970 с нулевой вероятностью увольнения работника"
   ]
  },
  {
   "cell_type": "code",
   "execution_count": 36,
   "id": "f9ceb91e",
   "metadata": {},
   "outputs": [],
   "source": [
    "wages = data['x_middle']\n",
    "probability = data['p']"
   ]
  },
  {
   "cell_type": "code",
   "execution_count": 37,
   "id": "457df6c6",
   "metadata": {},
   "outputs": [],
   "source": [
    "class McCallModel:\n",
    "\n",
    "    def __init__(self,α = 0, c=c, β = beta, w=wages, q=probability, σ = 2.0):\n",
    "        \n",
    "        self.α = α\n",
    "        self.σ = σ\n",
    "        self.c, self.β= c, β\n",
    "        self.w, self.q = wages, q\n",
    "    def update(self, v, d):\n",
    "\n",
    "        α, β, c, w, q, σ = self.α, self.β, self.c, self.w, self.q, self.σ\n",
    "\n",
    "        v_new = np.empty_like(v)\n",
    "\n",
    "        for i in range(len(w)):\n",
    "            v_new[i] = u(w[i],σ) + β * ((1 - α) * v[i] + α * d)\n",
    "\n",
    "        d_new = np.sum(np.maximum(v, u(c,σ) + β * d) * q)\n",
    "\n",
    "        return v_new, d_new\n"
   ]
  },
  {
   "cell_type": "code",
   "execution_count": 38,
   "id": "82b83545",
   "metadata": {},
   "outputs": [],
   "source": [
    "def solve_model(mcm, tol=1e-5, max_iter=2000, σ = 2.0):\n",
    "\n",
    "    v = np.ones_like(mcm.w)    \n",
    "    d = 1                      \n",
    "    i = 0\n",
    "    error = tol + 1\n",
    "\n",
    "    while error > tol and i < max_iter:\n",
    "        v_new, d_new = mcm.update(v, d)\n",
    "        error_1 = np.max(np.abs(v_new - v))\n",
    "        error_2 = np.abs(d_new - d)\n",
    "        error = max(error_1, error_2)\n",
    "        v = v_new\n",
    "        d = d_new\n",
    "        i += 1\n",
    "\n",
    "    return v, d"
   ]
  },
  {
   "cell_type": "markdown",
   "id": "690d4c8a",
   "metadata": {},
   "source": [
    "### 6) Резервная заработная плата"
   ]
  },
  {
   "cell_type": "code",
   "execution_count": 39,
   "id": "8fa54ab1",
   "metadata": {},
   "outputs": [],
   "source": [
    "def compute_reservation_wage(mcm, σ = 2):\n",
    "    \n",
    "    v, d = solve_model(mcm)\n",
    "    h = u(mcm.c,σ) + mcm.β * d\n",
    "\n",
    "    w_bar = np.inf\n",
    "    for i, wage in enumerate(mcm.w):\n",
    "        if v[i] > h:\n",
    "            w_bar = wage\n",
    "            break\n",
    "\n",
    "    return w_bar"
   ]
  },
  {
   "cell_type": "code",
   "execution_count": 40,
   "id": "d475bad6",
   "metadata": {},
   "outputs": [
    {
     "data": {
      "text/plain": [
       "42500.0"
      ]
     },
     "execution_count": 40,
     "metadata": {},
     "output_type": "execute_result"
    }
   ],
   "source": [
    "mcm = McCallModel(σ = 2, β = beta)\n",
    "compute_reservation_wage(mcm)"
   ]
  },
  {
   "cell_type": "markdown",
   "id": "aaf06bce",
   "metadata": {},
   "source": [
    "Объяснение алгоритма: \n",
    "\n",
    "v - общая стоимость жизни, который вступает в текущий период работы с существующей заработной платой\n",
    "\n",
    "h - общая стоимость жизни, который в текущий период становится безработным и получает предложение о заработной плате w.\n",
    "\n",
    "d - ожидаемое значение безработицы\n",
    "\n",
    "1) определяются первые  v и d(как 1) \n",
    "\n",
    "2) мы рассчитываем новые  \n",
    "\n",
    "d_new = np.sum(np.maximum(v, u(c,σ) + β * d) * q)\n",
    "\n",
    "v_new[i] = u(w[i],σ) + β * ((1 - α) * v[i] + α * d)\n",
    "\n",
    "3) Теперь мы повторяем до тех пор, пока последовательные реализации не окажутся ближе друг к другу, чем заданный уровень ошибки\n",
    "\n",
    "Возвращаем текущую итерацию в качестве приблизительного решения."
   ]
  },
  {
   "cell_type": "markdown",
   "id": "2752af2a",
   "metadata": {},
   "source": [
    "### 7) Сontourplot для резервной зарплаты в осях параметр дисконтирования и размер пособия"
   ]
  },
  {
   "cell_type": "code",
   "execution_count": 41,
   "id": "b288810c",
   "metadata": {},
   "outputs": [],
   "source": [
    "grid_size = 15\n",
    "R = np.empty((grid_size, grid_size))\n",
    "\n",
    "c_vals = np.linspace(4000, 18000, grid_size)\n",
    "β_vals = np.linspace(0.8, 0.99, grid_size)\n",
    "\n",
    "for i, c in enumerate(c_vals):\n",
    "    for j, β in enumerate(β_vals):\n",
    "        mcm = McCallModel(c=c, β = β)\n",
    "        R[i, j] = compute_reservation_wage(mcm)"
   ]
  },
  {
   "cell_type": "code",
   "execution_count": 42,
   "id": "9658c030",
   "metadata": {},
   "outputs": [
    {
     "data": {
      "image/png": "[encoded data removed]",
      "text/plain": [
       "<Figure size 792x360 with 2 Axes>"
      ]
     },
     "metadata": {
      "needs_background": "light"
     },
     "output_type": "display_data"
    }
   ],
   "source": [
    "fig, ax = plt.subplots()\n",
    "\n",
    "cs1 = ax.contourf(c_vals, β_vals, R.T, alpha=0.75)\n",
    "ctr1 = ax.contour(c_vals, β_vals, R.T)\n",
    "\n",
    "plt.clabel(ctr1, inline=1, fontsize=13)\n",
    "plt.colorbar(cs1, ax=ax)\n",
    "\n",
    "\n",
    "ax.set_title(\"reservation wage\")\n",
    "ax.set_xlabel(\"$c$\", fontsize=16)\n",
    "ax.set_ylabel(\"$β$\", fontsize=16)\n",
    "\n",
    "ax.ticklabel_format(useOffset=False)\n",
    "\n",
    "plt.show()"
   ]
  },
  {
   "cell_type": "markdown",
   "id": "925f6111",
   "metadata": {},
   "source": [
    "### 8) Трехмерный график для резервной зарплаты от параметра дисконтирования и размера пособия"
   ]
  },
  {
   "cell_type": "code",
   "execution_count": 43,
   "id": "bbca6b09",
   "metadata": {},
   "outputs": [],
   "source": [
    "X = c_vals\n",
    "Y = β_vals\n",
    "X,Y = np.meshgrid(X,Y)"
   ]
  },
  {
   "cell_type": "code",
   "execution_count": 44,
   "id": "00581441",
   "metadata": {},
   "outputs": [],
   "source": [
    "plot_3d = pd.DataFrame({'c':X.reshape(-1)})"
   ]
  },
  {
   "cell_type": "code",
   "execution_count": 45,
   "id": "a485205d",
   "metadata": {},
   "outputs": [
    {
     "data": {
      "text/html": [
       "<div>\n",
       "<style scoped>\n",
       "    .dataframe tbody tr th:only-of-type {\n",
       "        vertical-align: middle;\n",
       "    }\n",
       "\n",
       "    .dataframe tbody tr th {\n",
       "        vertical-align: top;\n",
       "    }\n",
       "\n",
       "    .dataframe thead th {\n",
       "        text-align: right;\n",
       "    }\n",
       "</style>\n",
       "<table border=\"1\" class=\"dataframe\">\n",
       "  <thead>\n",
       "    <tr style=\"text-align: right;\">\n",
       "      <th></th>\n",
       "      <th>c</th>\n",
       "      <th>β</th>\n",
       "      <th>w</th>\n",
       "    </tr>\n",
       "  </thead>\n",
       "  <tbody>\n",
       "    <tr>\n",
       "      <th>0</th>\n",
       "      <td>4000.0</td>\n",
       "      <td>0.80</td>\n",
       "      <td>14275.0</td>\n",
       "    </tr>\n",
       "    <tr>\n",
       "      <th>1</th>\n",
       "      <td>5000.0</td>\n",
       "      <td>0.80</td>\n",
       "      <td>15275.0</td>\n",
       "    </tr>\n",
       "    <tr>\n",
       "      <th>2</th>\n",
       "      <td>6000.0</td>\n",
       "      <td>0.80</td>\n",
       "      <td>15275.0</td>\n",
       "    </tr>\n",
       "    <tr>\n",
       "      <th>3</th>\n",
       "      <td>7000.0</td>\n",
       "      <td>0.80</td>\n",
       "      <td>16425.0</td>\n",
       "    </tr>\n",
       "    <tr>\n",
       "      <th>4</th>\n",
       "      <td>8000.0</td>\n",
       "      <td>0.80</td>\n",
       "      <td>17525.0</td>\n",
       "    </tr>\n",
       "    <tr>\n",
       "      <th>...</th>\n",
       "      <td>...</td>\n",
       "      <td>...</td>\n",
       "      <td>...</td>\n",
       "    </tr>\n",
       "    <tr>\n",
       "      <th>220</th>\n",
       "      <td>14000.0</td>\n",
       "      <td>0.99</td>\n",
       "      <td>55000.0</td>\n",
       "    </tr>\n",
       "    <tr>\n",
       "      <th>221</th>\n",
       "      <td>15000.0</td>\n",
       "      <td>0.99</td>\n",
       "      <td>55000.0</td>\n",
       "    </tr>\n",
       "    <tr>\n",
       "      <th>222</th>\n",
       "      <td>16000.0</td>\n",
       "      <td>0.99</td>\n",
       "      <td>67500.0</td>\n",
       "    </tr>\n",
       "    <tr>\n",
       "      <th>223</th>\n",
       "      <td>17000.0</td>\n",
       "      <td>0.99</td>\n",
       "      <td>87500.0</td>\n",
       "    </tr>\n",
       "    <tr>\n",
       "      <th>224</th>\n",
       "      <td>18000.0</td>\n",
       "      <td>0.99</td>\n",
       "      <td>175000.0</td>\n",
       "    </tr>\n",
       "  </tbody>\n",
       "</table>\n",
       "<p>225 rows × 3 columns</p>\n",
       "</div>"
      ],
      "text/plain": [
       "           c     β         w\n",
       "0     4000.0  0.80   14275.0\n",
       "1     5000.0  0.80   15275.0\n",
       "2     6000.0  0.80   15275.0\n",
       "3     7000.0  0.80   16425.0\n",
       "4     8000.0  0.80   17525.0\n",
       "..       ...   ...       ...\n",
       "220  14000.0  0.99   55000.0\n",
       "221  15000.0  0.99   55000.0\n",
       "222  16000.0  0.99   67500.0\n",
       "223  17000.0  0.99   87500.0\n",
       "224  18000.0  0.99  175000.0\n",
       "\n",
       "[225 rows x 3 columns]"
      ]
     },
     "execution_count": 45,
     "metadata": {},
     "output_type": "execute_result"
    }
   ],
   "source": [
    "plot_3d['β'] = Y.reshape(-1)\n",
    "plot_3d['w'] = R.reshape(-1)\n",
    "plot_3d"
   ]
  },
  {
   "cell_type": "code",
   "execution_count": 46,
   "id": "c98a9710",
   "metadata": {},
   "outputs": [
    {
     "data": {
      "application/vnd.plotly.v1+json": {
       "config": {
        "plotlyServerURL": "https://plot.ly"
       },
       "data": [
        {
         "hovertemplate": "c=%{x}<br>β=%{y}<br>w=%{z}<extra></extra>",
         "legendgroup": "",
         "marker": {
          "color": "#636efa",
          "symbol": "circle"
         },
         "mode": "markers",
         "name": "",
         "scene": "scene",
         "showlegend": false,
         "type": "scatter3d",
         "x": [
          4000,
          5000,
          6000,
          7000,
          8000,
          9000,
          10000,
          11000,
          12000,
          13000,
          14000,
          15000,
          16000,
          17000,
          18000,
          4000,
          5000,
          6000,
          7000,
          8000,
          9000,
          10000,
          11000,
          12000,
          13000,
          14000,
          15000,
          16000,
          17000,
          18000,
          4000,
          5000,
          6000,
          7000,
          8000,
          9000,
          10000,
          11000,
          12000,
          13000,
          14000,
          15000,
          16000,
          17000,
          18000,
          4000,
          5000,
          6000,
          7000,
          8000,
          9000,
          10000,
          11000,
          12000,
          13000,
          14000,
          15000,
          16000,
          17000,
          18000,
          4000,
          5000,
          6000,
          7000,
          8000,
          9000,
          10000,
          11000,
          12000,
          13000,
          14000,
          15000,
          16000,
          17000,
          18000,
          4000,
          5000,
          6000,
          7000,
          8000,
          9000,
          10000,
          11000,
          12000,
          13000,
          14000,
          15000,
          16000,
          17000,
          18000,
          4000,
          5000,
          6000,
          7000,
          8000,
          9000,
          10000,
          11000,
          12000,
          13000,
          14000,
          15000,
          16000,
          17000,
          18000,
          4000,
          5000,
          6000,
          7000,
          8000,
          9000,
          10000,
          11000,
          12000,
          13000,
          14000,
          15000,
          16000,
          17000,
          18000,
          4000,
          5000,
          6000,
          7000,
          8000,
          9000,
          10000,
          11000,
          12000,
          13000,
          14000,
          15000,
          16000,
          17000,
          18000,
          4000,
          5000,
          6000,
          7000,
          8000,
          9000,
          10000,
          11000,
          12000,
          13000,
          14000,
          15000,
          16000,
          17000,
          18000,
          4000,
          5000,
          6000,
          7000,
          8000,
          9000,
          10000,
          11000,
          12000,
          13000,
          14000,
          15000,
          16000,
          17000,
          18000,
          4000,
          5000,
          6000,
          7000,
          8000,
          9000,
          10000,
          11000,
          12000,
          13000,
          14000,
          15000,
          16000,
          17000,
          18000,
          4000,
          5000,
          6000,
          7000,
          8000,
          9000,
          10000,
          11000,
          12000,
          13000,
          14000,
          15000,
          16000,
          17000,
          18000,
          4000,
          5000,
          6000,
          7000,
          8000,
          9000,
          10000,
          11000,
          12000,
          13000,
          14000,
          15000,
          16000,
          17000,
          18000,
          4000,
          5000,
          6000,
          7000,
          8000,
          9000,
          10000,
          11000,
          12000,
          13000,
          14000,
          15000,
          16000,
          17000,
          18000
         ],
         "y": [
          0.8,
          0.8,
          0.8,
          0.8,
          0.8,
          0.8,
          0.8,
          0.8,
          0.8,
          0.8,
          0.8,
          0.8,
          0.8,
          0.8,
          0.8,
          0.8135714285714286,
          0.8135714285714286,
          0.8135714285714286,
          0.8135714285714286,
          0.8135714285714286,
          0.8135714285714286,
          0.8135714285714286,
          0.8135714285714286,
          0.8135714285714286,
          0.8135714285714286,
          0.8135714285714286,
          0.8135714285714286,
          0.8135714285714286,
          0.8135714285714286,
          0.8135714285714286,
          0.8271428571428572,
          0.8271428571428572,
          0.8271428571428572,
          0.8271428571428572,
          0.8271428571428572,
          0.8271428571428572,
          0.8271428571428572,
          0.8271428571428572,
          0.8271428571428572,
          0.8271428571428572,
          0.8271428571428572,
          0.8271428571428572,
          0.8271428571428572,
          0.8271428571428572,
          0.8271428571428572,
          0.8407142857142857,
          0.8407142857142857,
          0.8407142857142857,
          0.8407142857142857,
          0.8407142857142857,
          0.8407142857142857,
          0.8407142857142857,
          0.8407142857142857,
          0.8407142857142857,
          0.8407142857142857,
          0.8407142857142857,
          0.8407142857142857,
          0.8407142857142857,
          0.8407142857142857,
          0.8407142857142857,
          0.8542857142857143,
          0.8542857142857143,
          0.8542857142857143,
          0.8542857142857143,
          0.8542857142857143,
          0.8542857142857143,
          0.8542857142857143,
          0.8542857142857143,
          0.8542857142857143,
          0.8542857142857143,
          0.8542857142857143,
          0.8542857142857143,
          0.8542857142857143,
          0.8542857142857143,
          0.8542857142857143,
          0.8678571428571429,
          0.8678571428571429,
          0.8678571428571429,
          0.8678571428571429,
          0.8678571428571429,
          0.8678571428571429,
          0.8678571428571429,
          0.8678571428571429,
          0.8678571428571429,
          0.8678571428571429,
          0.8678571428571429,
          0.8678571428571429,
          0.8678571428571429,
          0.8678571428571429,
          0.8678571428571429,
          0.8814285714285715,
          0.8814285714285715,
          0.8814285714285715,
          0.8814285714285715,
          0.8814285714285715,
          0.8814285714285715,
          0.8814285714285715,
          0.8814285714285715,
          0.8814285714285715,
          0.8814285714285715,
          0.8814285714285715,
          0.8814285714285715,
          0.8814285714285715,
          0.8814285714285715,
          0.8814285714285715,
          0.895,
          0.895,
          0.895,
          0.895,
          0.895,
          0.895,
          0.895,
          0.895,
          0.895,
          0.895,
          0.895,
          0.895,
          0.895,
          0.895,
          0.895,
          0.9085714285714286,
          0.9085714285714286,
          0.9085714285714286,
          0.9085714285714286,
          0.9085714285714286,
          0.9085714285714286,
          0.9085714285714286,
          0.9085714285714286,
          0.9085714285714286,
          0.9085714285714286,
          0.9085714285714286,
          0.9085714285714286,
          0.9085714285714286,
          0.9085714285714286,
          0.9085714285714286,
          0.9221428571428572,
          0.9221428571428572,
          0.9221428571428572,
          0.9221428571428572,
          0.9221428571428572,
          0.9221428571428572,
          0.9221428571428572,
          0.9221428571428572,
          0.9221428571428572,
          0.9221428571428572,
          0.9221428571428572,
          0.9221428571428572,
          0.9221428571428572,
          0.9221428571428572,
          0.9221428571428572,
          0.9357142857142857,
          0.9357142857142857,
          0.9357142857142857,
          0.9357142857142857,
          0.9357142857142857,
          0.9357142857142857,
          0.9357142857142857,
          0.9357142857142857,
          0.9357142857142857,
          0.9357142857142857,
          0.9357142857142857,
          0.9357142857142857,
          0.9357142857142857,
          0.9357142857142857,
          0.9357142857142857,
          0.9492857142857143,
          0.9492857142857143,
          0.9492857142857143,
          0.9492857142857143,
          0.9492857142857143,
          0.9492857142857143,
          0.9492857142857143,
          0.9492857142857143,
          0.9492857142857143,
          0.9492857142857143,
          0.9492857142857143,
          0.9492857142857143,
          0.9492857142857143,
          0.9492857142857143,
          0.9492857142857143,
          0.9628571428571429,
          0.9628571428571429,
          0.9628571428571429,
          0.9628571428571429,
          0.9628571428571429,
          0.9628571428571429,
          0.9628571428571429,
          0.9628571428571429,
          0.9628571428571429,
          0.9628571428571429,
          0.9628571428571429,
          0.9628571428571429,
          0.9628571428571429,
          0.9628571428571429,
          0.9628571428571429,
          0.9764285714285714,
          0.9764285714285714,
          0.9764285714285714,
          0.9764285714285714,
          0.9764285714285714,
          0.9764285714285714,
          0.9764285714285714,
          0.9764285714285714,
          0.9764285714285714,
          0.9764285714285714,
          0.9764285714285714,
          0.9764285714285714,
          0.9764285714285714,
          0.9764285714285714,
          0.9764285714285714,
          0.99,
          0.99,
          0.99,
          0.99,
          0.99,
          0.99,
          0.99,
          0.99,
          0.99,
          0.99,
          0.99,
          0.99,
          0.99,
          0.99,
          0.99
         ],
         "z": [
          14275,
          15275,
          15275,
          16425,
          17525,
          18625,
          19775,
          20900,
          22005,
          24255,
          25960,
          28200,
          32750,
          42500,
          55000,
          16425,
          17525,
          18625,
          18625,
          19775,
          20900,
          22005,
          23125,
          24255,
          28200,
          30450,
          32750,
          36950,
          42500,
          67500,
          18625,
          19775,
          19775,
          20900,
          22005,
          23125,
          24255,
          25960,
          28200,
          30450,
          32750,
          36950,
          42500,
          47500,
          67500,
          20900,
          20900,
          22005,
          23125,
          24255,
          25960,
          25960,
          28200,
          30450,
          32750,
          36950,
          36950,
          42500,
          55000,
          67500,
          22005,
          23125,
          24255,
          25960,
          25960,
          28200,
          28200,
          30450,
          32750,
          36950,
          36950,
          42500,
          47500,
          55000,
          67500,
          24255,
          24255,
          25960,
          25960,
          28200,
          28200,
          30450,
          32750,
          32750,
          36950,
          42500,
          42500,
          47500,
          55000,
          87500,
          25960,
          25960,
          28200,
          28200,
          30450,
          30450,
          32750,
          32750,
          36950,
          36950,
          42500,
          42500,
          47500,
          55000,
          87500,
          28200,
          28200,
          28200,
          30450,
          30450,
          32750,
          32750,
          36950,
          36950,
          42500,
          42500,
          47500,
          55000,
          67500,
          87500,
          28200,
          30450,
          30450,
          30450,
          32750,
          32750,
          36950,
          36950,
          42500,
          42500,
          42500,
          47500,
          55000,
          67500,
          87500,
          30450,
          30450,
          32750,
          32750,
          36950,
          36950,
          36950,
          36950,
          42500,
          42500,
          47500,
          47500,
          55000,
          67500,
          87500,
          30450,
          32750,
          32750,
          36950,
          36950,
          36950,
          36950,
          42500,
          42500,
          42500,
          47500,
          55000,
          55000,
          67500,
          87500,
          32750,
          32750,
          36950,
          36950,
          36950,
          36950,
          42500,
          42500,
          42500,
          47500,
          47500,
          55000,
          67500,
          67500,
          87500,
          36950,
          36950,
          36950,
          36950,
          36950,
          42500,
          42500,
          42500,
          47500,
          47500,
          55000,
          55000,
          67500,
          67500,
          87500,
          36950,
          36950,
          36950,
          36950,
          42500,
          42500,
          42500,
          42500,
          47500,
          47500,
          55000,
          55000,
          67500,
          67500,
          87500,
          36950,
          36950,
          36950,
          42500,
          42500,
          42500,
          42500,
          47500,
          47500,
          55000,
          55000,
          55000,
          67500,
          87500,
          175000
         ]
        }
       ],
       "layout": {
        "legend": {
         "tracegroupgap": 0
        },
        "margin": {
         "t": 60
        },
        "scene": {
         "domain": {
          "x": [
           0,
           1
          ],
          "y": [
           0,
           1
          ]
         },
         "xaxis": {
          "title": {
           "text": "c"
          }
         },
         "yaxis": {
          "title": {
           "text": "β"
          }
         },
         "zaxis": {
          "title": {
           "text": "w"
          }
         }
        },
        "template": {
         "data": {
          "bar": [
           {
            "error_x": {
             "color": "#2a3f5f"
            },
            "error_y": {
             "color": "#2a3f5f"
            },
            "marker": {
             "line": {
              "color": "#E5ECF6",
              "width": 0.5
             },
             "pattern": {
              "fillmode": "overlay",
              "size": 10,
              "solidity": 0.2
             }
            },
            "type": "bar"
           }
          ],
          "barpolar": [
           {
            "marker": {
             "line": {
              "color": "#E5ECF6",
              "width": 0.5
             },
             "pattern": {
              "fillmode": "overlay",
              "size": 10,
              "solidity": 0.2
             }
            },
            "type": "barpolar"
           }
          ],
          "carpet": [
           {
            "aaxis": {
             "endlinecolor": "#2a3f5f",
             "gridcolor": "white",
             "linecolor": "white",
             "minorgridcolor": "white",
             "startlinecolor": "#2a3f5f"
            },
            "baxis": {
             "endlinecolor": "#2a3f5f",
             "gridcolor": "white",
             "linecolor": "white",
             "minorgridcolor": "white",
             "startlinecolor": "#2a3f5f"
            },
            "type": "carpet"
           }
          ],
          "choropleth": [
           {
            "colorbar": {
             "outlinewidth": 0,
             "ticks": ""
            },
            "type": "choropleth"
           }
          ],
          "contour": [
           {
            "colorbar": {
             "outlinewidth": 0,
             "ticks": ""
            },
            "colorscale": [
             [
              0,
              "#0d0887"
             ],
             [
              0.1111111111111111,
              "#46039f"
             ],
             [
              0.2222222222222222,
              "#7201a8"
             ],
             [
              0.3333333333333333,
              "#9c179e"
             ],
             [
              0.4444444444444444,
              "#bd3786"
             ],
             [
              0.5555555555555556,
              "#d8576b"
             ],
             [
              0.6666666666666666,
              "#ed7953"
             ],
             [
              0.7777777777777778,
              "#fb9f3a"
             ],
             [
              0.8888888888888888,
              "#fdca26"
             ],
             [
              1,
              "#f0f921"
             ]
            ],
            "type": "contour"
           }
          ],
          "contourcarpet": [
           {
            "colorbar": {
             "outlinewidth": 0,
             "ticks": ""
            },
            "type": "contourcarpet"
           }
          ],
          "heatmap": [
           {
            "colorbar": {
             "outlinewidth": 0,
             "ticks": ""
            },
            "colorscale": [
             [
              0,
              "#0d0887"
             ],
             [
              0.1111111111111111,
              "#46039f"
             ],
             [
              0.2222222222222222,
              "#7201a8"
             ],
             [
              0.3333333333333333,
              "#9c179e"
             ],
             [
              0.4444444444444444,
              "#bd3786"
             ],
             [
              0.5555555555555556,
              "#d8576b"
             ],
             [
              0.6666666666666666,
              "#ed7953"
             ],
             [
              0.7777777777777778,
              "#fb9f3a"
             ],
             [
              0.8888888888888888,
              "#fdca26"
             ],
             [
              1,
              "#f0f921"
             ]
            ],
            "type": "heatmap"
           }
          ],
          "heatmapgl": [
           {
            "colorbar": {
             "outlinewidth": 0,
             "ticks": ""
            },
            "colorscale": [
             [
              0,
              "#0d0887"
             ],
             [
              0.1111111111111111,
              "#46039f"
             ],
             [
              0.2222222222222222,
              "#7201a8"
             ],
             [
              0.3333333333333333,
              "#9c179e"
             ],
             [
              0.4444444444444444,
              "#bd3786"
             ],
             [
              0.5555555555555556,
              "#d8576b"
             ],
             [
              0.6666666666666666,
              "#ed7953"
             ],
             [
              0.7777777777777778,
              "#fb9f3a"
             ],
             [
              0.8888888888888888,
              "#fdca26"
             ],
             [
              1,
              "#f0f921"
             ]
            ],
            "type": "heatmapgl"
           }
          ],
          "histogram": [
           {
            "marker": {
             "pattern": {
              "fillmode": "overlay",
              "size": 10,
              "solidity": 0.2
             }
            },
            "type": "histogram"
           }
          ],
          "histogram2d": [
           {
            "colorbar": {
             "outlinewidth": 0,
             "ticks": ""
            },
            "colorscale": [
             [
              0,
              "#0d0887"
             ],
             [
              0.1111111111111111,
              "#46039f"
             ],
             [
              0.2222222222222222,
              "#7201a8"
             ],
             [
              0.3333333333333333,
              "#9c179e"
             ],
             [
              0.4444444444444444,
              "#bd3786"
             ],
             [
              0.5555555555555556,
              "#d8576b"
             ],
             [
              0.6666666666666666,
              "#ed7953"
             ],
             [
              0.7777777777777778,
              "#fb9f3a"
             ],
             [
              0.8888888888888888,
              "#fdca26"
             ],
             [
              1,
              "#f0f921"
             ]
            ],
            "type": "histogram2d"
           }
          ],
          "histogram2dcontour": [
           {
            "colorbar": {
             "outlinewidth": 0,
             "ticks": ""
            },
            "colorscale": [
             [
              0,
              "#0d0887"
             ],
             [
              0.1111111111111111,
              "#46039f"
             ],
             [
              0.2222222222222222,
              "#7201a8"
             ],
             [
              0.3333333333333333,
              "#9c179e"
             ],
             [
              0.4444444444444444,
              "#bd3786"
             ],
             [
              0.5555555555555556,
              "#d8576b"
             ],
             [
              0.6666666666666666,
              "#ed7953"
             ],
             [
              0.7777777777777778,
              "#fb9f3a"
             ],
             [
              0.8888888888888888,
              "#fdca26"
             ],
             [
              1,
              "#f0f921"
             ]
            ],
            "type": "histogram2dcontour"
           }
          ],
          "mesh3d": [
           {
            "colorbar": {
             "outlinewidth": 0,
             "ticks": ""
            },
            "type": "mesh3d"
           }
          ],
          "parcoords": [
           {
            "line": {
             "colorbar": {
              "outlinewidth": 0,
              "ticks": ""
             }
            },
            "type": "parcoords"
           }
          ],
          "pie": [
           {
            "automargin": true,
            "type": "pie"
           }
          ],
          "scatter": [
           {
            "marker": {
             "colorbar": {
              "outlinewidth": 0,
              "ticks": ""
             }
            },
            "type": "scatter"
           }
          ],
          "scatter3d": [
           {
            "line": {
             "colorbar": {
              "outlinewidth": 0,
              "ticks": ""
             }
            },
            "marker": {
             "colorbar": {
              "outlinewidth": 0,
              "ticks": ""
             }
            },
            "type": "scatter3d"
           }
          ],
          "scattercarpet": [
           {
            "marker": {
             "colorbar": {
              "outlinewidth": 0,
              "ticks": ""
             }
            },
            "type": "scattercarpet"
           }
          ],
          "scattergeo": [
           {
            "marker": {
             "colorbar": {
              "outlinewidth": 0,
              "ticks": ""
             }
            },
            "type": "scattergeo"
           }
          ],
          "scattergl": [
           {
            "marker": {
             "colorbar": {
              "outlinewidth": 0,
              "ticks": ""
             }
            },
            "type": "scattergl"
           }
          ],
          "scattermapbox": [
           {
            "marker": {
             "colorbar": {
              "outlinewidth": 0,
              "ticks": ""
             }
            },
            "type": "scattermapbox"
           }
          ],
          "scatterpolar": [
           {
            "marker": {
             "colorbar": {
              "outlinewidth": 0,
              "ticks": ""
             }
            },
            "type": "scatterpolar"
           }
          ],
          "scatterpolargl": [
           {
            "marker": {
             "colorbar": {
              "outlinewidth": 0,
              "ticks": ""
             }
            },
            "type": "scatterpolargl"
           }
          ],
          "scatterternary": [
           {
            "marker": {
             "colorbar": {
              "outlinewidth": 0,
              "ticks": ""
             }
            },
            "type": "scatterternary"
           }
          ],
          "surface": [
           {
            "colorbar": {
             "outlinewidth": 0,
             "ticks": ""
            },
            "colorscale": [
             [
              0,
              "#0d0887"
             ],
             [
              0.1111111111111111,
              "#46039f"
             ],
             [
              0.2222222222222222,
              "#7201a8"
             ],
             [
              0.3333333333333333,
              "#9c179e"
             ],
             [
              0.4444444444444444,
              "#bd3786"
             ],
             [
              0.5555555555555556,
              "#d8576b"
             ],
             [
              0.6666666666666666,
              "#ed7953"
             ],
             [
              0.7777777777777778,
              "#fb9f3a"
             ],
             [
              0.8888888888888888,
              "#fdca26"
             ],
             [
              1,
              "#f0f921"
             ]
            ],
            "type": "surface"
           }
          ],
          "table": [
           {
            "cells": {
             "fill": {
              "color": "#EBF0F8"
             },
             "line": {
              "color": "white"
             }
            },
            "header": {
             "fill": {
              "color": "#C8D4E3"
             },
             "line": {
              "color": "white"
             }
            },
            "type": "table"
           }
          ]
         },
         "layout": {
          "annotationdefaults": {
           "arrowcolor": "#2a3f5f",
           "arrowhead": 0,
           "arrowwidth": 1
          },
          "autotypenumbers": "strict",
          "coloraxis": {
           "colorbar": {
            "outlinewidth": 0,
            "ticks": ""
           }
          },
          "colorscale": {
           "diverging": [
            [
             0,
             "#8e0152"
            ],
            [
             0.1,
             "#c51b7d"
            ],
            [
             0.2,
             "#de77ae"
            ],
            [
             0.3,
             "#f1b6da"
            ],
            [
             0.4,
             "#fde0ef"
            ],
            [
             0.5,
             "#f7f7f7"
            ],
            [
             0.6,
             "#e6f5d0"
            ],
            [
             0.7,
             "#b8e186"
            ],
            [
             0.8,
             "#7fbc41"
            ],
            [
             0.9,
             "#4d9221"
            ],
            [
             1,
             "#276419"
            ]
           ],
           "sequential": [
            [
             0,
             "#0d0887"
            ],
            [
             0.1111111111111111,
             "#46039f"
            ],
            [
             0.2222222222222222,
             "#7201a8"
            ],
            [
             0.3333333333333333,
             "#9c179e"
            ],
            [
             0.4444444444444444,
             "#bd3786"
            ],
            [
             0.5555555555555556,
             "#d8576b"
            ],
            [
             0.6666666666666666,
             "#ed7953"
            ],
            [
             0.7777777777777778,
             "#fb9f3a"
            ],
            [
             0.8888888888888888,
             "#fdca26"
            ],
            [
             1,
             "#f0f921"
            ]
           ],
           "sequentialminus": [
            [
             0,
             "#0d0887"
            ],
            [
             0.1111111111111111,
             "#46039f"
            ],
            [
             0.2222222222222222,
             "#7201a8"
            ],
            [
             0.3333333333333333,
             "#9c179e"
            ],
            [
             0.4444444444444444,
             "#bd3786"
            ],
            [
             0.5555555555555556,
             "#d8576b"
            ],
            [
             0.6666666666666666,
             "#ed7953"
            ],
            [
             0.7777777777777778,
             "#fb9f3a"
            ],
            [
             0.8888888888888888,
             "#fdca26"
            ],
            [
             1,
             "#f0f921"
            ]
           ]
          },
          "colorway": [
           "#636efa",
           "#EF553B",
           "#00cc96",
           "#ab63fa",
           "#FFA15A",
           "#19d3f3",
           "#FF6692",
           "#B6E880",
           "#FF97FF",
           "#FECB52"
          ],
          "font": {
           "color": "#2a3f5f"
          },
          "geo": {
           "bgcolor": "white",
           "lakecolor": "white",
           "landcolor": "#E5ECF6",
           "showlakes": true,
           "showland": true,
           "subunitcolor": "white"
          },
          "hoverlabel": {
           "align": "left"
          },
          "hovermode": "closest",
          "mapbox": {
           "style": "light"
          },
          "paper_bgcolor": "white",
          "plot_bgcolor": "#E5ECF6",
          "polar": {
           "angularaxis": {
            "gridcolor": "white",
            "linecolor": "white",
            "ticks": ""
           },
           "bgcolor": "#E5ECF6",
           "radialaxis": {
            "gridcolor": "white",
            "linecolor": "white",
            "ticks": ""
           }
          },
          "scene": {
           "xaxis": {
            "backgroundcolor": "#E5ECF6",
            "gridcolor": "white",
            "gridwidth": 2,
            "linecolor": "white",
            "showbackground": true,
            "ticks": "",
            "zerolinecolor": "white"
           },
           "yaxis": {
            "backgroundcolor": "#E5ECF6",
            "gridcolor": "white",
            "gridwidth": 2,
            "linecolor": "white",
            "showbackground": true,
            "ticks": "",
            "zerolinecolor": "white"
           },
           "zaxis": {
            "backgroundcolor": "#E5ECF6",
            "gridcolor": "white",
            "gridwidth": 2,
            "linecolor": "white",
            "showbackground": true,
            "ticks": "",
            "zerolinecolor": "white"
           }
          },
          "shapedefaults": {
           "line": {
            "color": "#2a3f5f"
           }
          },
          "ternary": {
           "aaxis": {
            "gridcolor": "white",
            "linecolor": "white",
            "ticks": ""
           },
           "baxis": {
            "gridcolor": "white",
            "linecolor": "white",
            "ticks": ""
           },
           "bgcolor": "#E5ECF6",
           "caxis": {
            "gridcolor": "white",
            "linecolor": "white",
            "ticks": ""
           }
          },
          "title": {
           "x": 0.05
          },
          "xaxis": {
           "automargin": true,
           "gridcolor": "white",
           "linecolor": "white",
           "ticks": "",
           "title": {
            "standoff": 15
           },
           "zerolinecolor": "white",
           "zerolinewidth": 2
          },
          "yaxis": {
           "automargin": true,
           "gridcolor": "white",
           "linecolor": "white",
           "ticks": "",
           "title": {
            "standoff": 15
           },
           "zerolinecolor": "white",
           "zerolinewidth": 2
          }
         }
        }
       }
      },
      "text/html": [
       "<div>                            <div id=\"e34e7fc6-e19a-46d4-bdac-24e8ae4cf2de\" class=\"plotly-graph-div\" style=\"height:525px; width:100%;\"></div>            <script type=\"text/javascript\">                require([\"plotly\"], function(Plotly) {                    window.PLOTLYENV=window.PLOTLYENV || {};                                    if (document.getElementById(\"e34e7fc6-e19a-46d4-bdac-24e8ae4cf2de\")) {                    Plotly.newPlot(                        \"e34e7fc6-e19a-46d4-bdac-24e8ae4cf2de\",                        [{\"hovertemplate\":\"c=%{x}<br>\\u03b2=%{y}<br>w=%{z}<extra></extra>\",\"legendgroup\":\"\",\"marker\":{\"color\":\"#636efa\",\"symbol\":\"circle\"},\"mode\":\"markers\",\"name\":\"\",\"scene\":\"scene\",\"showlegend\":false,\"type\":\"scatter3d\",\"x\":[4000.0,5000.0,6000.0,7000.0,8000.0,9000.0,10000.0,11000.0,12000.0,13000.0,14000.0,15000.0,16000.0,17000.0,18000.0,4000.0,5000.0,6000.0,7000.0,8000.0,9000.0,10000.0,11000.0,12000.0,13000.0,14000.0,15000.0,16000.0,17000.0,18000.0,4000.0,5000.0,6000.0,7000.0,8000.0,9000.0,10000.0,11000.0,12000.0,13000.0,14000.0,15000.0,16000.0,17000.0,18000.0,4000.0,5000.0,6000.0,7000.0,8000.0,9000.0,10000.0,11000.0,12000.0,13000.0,14000.0,15000.0,16000.0,17000.0,18000.0,4000.0,5000.0,6000.0,7000.0,8000.0,9000.0,10000.0,11000.0,12000.0,13000.0,14000.0,15000.0,16000.0,17000.0,18000.0,4000.0,5000.0,6000.0,7000.0,8000.0,9000.0,10000.0,11000.0,12000.0,13000.0,14000.0,15000.0,16000.0,17000.0,18000.0,4000.0,5000.0,6000.0,7000.0,8000.0,9000.0,10000.0,11000.0,12000.0,13000.0,14000.0,15000.0,16000.0,17000.0,18000.0,4000.0,5000.0,6000.0,7000.0,8000.0,9000.0,10000.0,11000.0,12000.0,13000.0,14000.0,15000.0,16000.0,17000.0,18000.0,4000.0,5000.0,6000.0,7000.0,8000.0,9000.0,10000.0,11000.0,12000.0,13000.0,14000.0,15000.0,16000.0,17000.0,18000.0,4000.0,5000.0,6000.0,7000.0,8000.0,9000.0,10000.0,11000.0,12000.0,13000.0,14000.0,15000.0,16000.0,17000.0,18000.0,4000.0,5000.0,6000.0,7000.0,8000.0,9000.0,10000.0,11000.0,12000.0,13000.0,14000.0,15000.0,16000.0,17000.0,18000.0,4000.0,5000.0,6000.0,7000.0,8000.0,9000.0,10000.0,11000.0,12000.0,13000.0,14000.0,15000.0,16000.0,17000.0,18000.0,4000.0,5000.0,6000.0,7000.0,8000.0,9000.0,10000.0,11000.0,12000.0,13000.0,14000.0,15000.0,16000.0,17000.0,18000.0,4000.0,5000.0,6000.0,7000.0,8000.0,9000.0,10000.0,11000.0,12000.0,13000.0,14000.0,15000.0,16000.0,17000.0,18000.0,4000.0,5000.0,6000.0,7000.0,8000.0,9000.0,10000.0,11000.0,12000.0,13000.0,14000.0,15000.0,16000.0,17000.0,18000.0],\"y\":[0.8,0.8,0.8,0.8,0.8,0.8,0.8,0.8,0.8,0.8,0.8,0.8,0.8,0.8,0.8,0.8135714285714286,0.8135714285714286,0.8135714285714286,0.8135714285714286,0.8135714285714286,0.8135714285714286,0.8135714285714286,0.8135714285714286,0.8135714285714286,0.8135714285714286,0.8135714285714286,0.8135714285714286,0.8135714285714286,0.8135714285714286,0.8135714285714286,0.8271428571428572,0.8271428571428572,0.8271428571428572,0.8271428571428572,0.8271428571428572,0.8271428571428572,0.8271428571428572,0.8271428571428572,0.8271428571428572,0.8271428571428572,0.8271428571428572,0.8271428571428572,0.8271428571428572,0.8271428571428572,0.8271428571428572,0.8407142857142857,0.8407142857142857,0.8407142857142857,0.8407142857142857,0.8407142857142857,0.8407142857142857,0.8407142857142857,0.8407142857142857,0.8407142857142857,0.8407142857142857,0.8407142857142857,0.8407142857142857,0.8407142857142857,0.8407142857142857,0.8407142857142857,0.8542857142857143,0.8542857142857143,0.8542857142857143,0.8542857142857143,0.8542857142857143,0.8542857142857143,0.8542857142857143,0.8542857142857143,0.8542857142857143,0.8542857142857143,0.8542857142857143,0.8542857142857143,0.8542857142857143,0.8542857142857143,0.8542857142857143,0.8678571428571429,0.8678571428571429,0.8678571428571429,0.8678571428571429,0.8678571428571429,0.8678571428571429,0.8678571428571429,0.8678571428571429,0.8678571428571429,0.8678571428571429,0.8678571428571429,0.8678571428571429,0.8678571428571429,0.8678571428571429,0.8678571428571429,0.8814285714285715,0.8814285714285715,0.8814285714285715,0.8814285714285715,0.8814285714285715,0.8814285714285715,0.8814285714285715,0.8814285714285715,0.8814285714285715,0.8814285714285715,0.8814285714285715,0.8814285714285715,0.8814285714285715,0.8814285714285715,0.8814285714285715,0.895,0.895,0.895,0.895,0.895,0.895,0.895,0.895,0.895,0.895,0.895,0.895,0.895,0.895,0.895,0.9085714285714286,0.9085714285714286,0.9085714285714286,0.9085714285714286,0.9085714285714286,0.9085714285714286,0.9085714285714286,0.9085714285714286,0.9085714285714286,0.9085714285714286,0.9085714285714286,0.9085714285714286,0.9085714285714286,0.9085714285714286,0.9085714285714286,0.9221428571428572,0.9221428571428572,0.9221428571428572,0.9221428571428572,0.9221428571428572,0.9221428571428572,0.9221428571428572,0.9221428571428572,0.9221428571428572,0.9221428571428572,0.9221428571428572,0.9221428571428572,0.9221428571428572,0.9221428571428572,0.9221428571428572,0.9357142857142857,0.9357142857142857,0.9357142857142857,0.9357142857142857,0.9357142857142857,0.9357142857142857,0.9357142857142857,0.9357142857142857,0.9357142857142857,0.9357142857142857,0.9357142857142857,0.9357142857142857,0.9357142857142857,0.9357142857142857,0.9357142857142857,0.9492857142857143,0.9492857142857143,0.9492857142857143,0.9492857142857143,0.9492857142857143,0.9492857142857143,0.9492857142857143,0.9492857142857143,0.9492857142857143,0.9492857142857143,0.9492857142857143,0.9492857142857143,0.9492857142857143,0.9492857142857143,0.9492857142857143,0.9628571428571429,0.9628571428571429,0.9628571428571429,0.9628571428571429,0.9628571428571429,0.9628571428571429,0.9628571428571429,0.9628571428571429,0.9628571428571429,0.9628571428571429,0.9628571428571429,0.9628571428571429,0.9628571428571429,0.9628571428571429,0.9628571428571429,0.9764285714285714,0.9764285714285714,0.9764285714285714,0.9764285714285714,0.9764285714285714,0.9764285714285714,0.9764285714285714,0.9764285714285714,0.9764285714285714,0.9764285714285714,0.9764285714285714,0.9764285714285714,0.9764285714285714,0.9764285714285714,0.9764285714285714,0.99,0.99,0.99,0.99,0.99,0.99,0.99,0.99,0.99,0.99,0.99,0.99,0.99,0.99,0.99],\"z\":[14275.0,15275.0,15275.0,16425.0,17525.0,18625.0,19775.0,20900.0,22005.0,24255.0,25960.0,28200.0,32750.0,42500.0,55000.0,16425.0,17525.0,18625.0,18625.0,19775.0,20900.0,22005.0,23125.0,24255.0,28200.0,30450.0,32750.0,36950.0,42500.0,67500.0,18625.0,19775.0,19775.0,20900.0,22005.0,23125.0,24255.0,25960.0,28200.0,30450.0,32750.0,36950.0,42500.0,47500.0,67500.0,20900.0,20900.0,22005.0,23125.0,24255.0,25960.0,25960.0,28200.0,30450.0,32750.0,36950.0,36950.0,42500.0,55000.0,67500.0,22005.0,23125.0,24255.0,25960.0,25960.0,28200.0,28200.0,30450.0,32750.0,36950.0,36950.0,42500.0,47500.0,55000.0,67500.0,24255.0,24255.0,25960.0,25960.0,28200.0,28200.0,30450.0,32750.0,32750.0,36950.0,42500.0,42500.0,47500.0,55000.0,87500.0,25960.0,25960.0,28200.0,28200.0,30450.0,30450.0,32750.0,32750.0,36950.0,36950.0,42500.0,42500.0,47500.0,55000.0,87500.0,28200.0,28200.0,28200.0,30450.0,30450.0,32750.0,32750.0,36950.0,36950.0,42500.0,42500.0,47500.0,55000.0,67500.0,87500.0,28200.0,30450.0,30450.0,30450.0,32750.0,32750.0,36950.0,36950.0,42500.0,42500.0,42500.0,47500.0,55000.0,67500.0,87500.0,30450.0,30450.0,32750.0,32750.0,36950.0,36950.0,36950.0,36950.0,42500.0,42500.0,47500.0,47500.0,55000.0,67500.0,87500.0,30450.0,32750.0,32750.0,36950.0,36950.0,36950.0,36950.0,42500.0,42500.0,42500.0,47500.0,55000.0,55000.0,67500.0,87500.0,32750.0,32750.0,36950.0,36950.0,36950.0,36950.0,42500.0,42500.0,42500.0,47500.0,47500.0,55000.0,67500.0,67500.0,87500.0,36950.0,36950.0,36950.0,36950.0,36950.0,42500.0,42500.0,42500.0,47500.0,47500.0,55000.0,55000.0,67500.0,67500.0,87500.0,36950.0,36950.0,36950.0,36950.0,42500.0,42500.0,42500.0,42500.0,47500.0,47500.0,55000.0,55000.0,67500.0,67500.0,87500.0,36950.0,36950.0,36950.0,42500.0,42500.0,42500.0,42500.0,47500.0,47500.0,55000.0,55000.0,55000.0,67500.0,87500.0,175000.0]}],                        {\"legend\":{\"tracegroupgap\":0},\"margin\":{\"t\":60},\"scene\":{\"domain\":{\"x\":[0.0,1.0],\"y\":[0.0,1.0]},\"xaxis\":{\"title\":{\"text\":\"c\"}},\"yaxis\":{\"title\":{\"text\":\"\\u03b2\"}},\"zaxis\":{\"title\":{\"text\":\"w\"}}},\"template\":{\"data\":{\"bar\":[{\"error_x\":{\"color\":\"#2a3f5f\"},\"error_y\":{\"color\":\"#2a3f5f\"},\"marker\":{\"line\":{\"color\":\"#E5ECF6\",\"width\":0.5},\"pattern\":{\"fillmode\":\"overlay\",\"size\":10,\"solidity\":0.2}},\"type\":\"bar\"}],\"barpolar\":[{\"marker\":{\"line\":{\"color\":\"#E5ECF6\",\"width\":0.5},\"pattern\":{\"fillmode\":\"overlay\",\"size\":10,\"solidity\":0.2}},\"type\":\"barpolar\"}],\"carpet\":[{\"aaxis\":{\"endlinecolor\":\"#2a3f5f\",\"gridcolor\":\"white\",\"linecolor\":\"white\",\"minorgridcolor\":\"white\",\"startlinecolor\":\"#2a3f5f\"},\"baxis\":{\"endlinecolor\":\"#2a3f5f\",\"gridcolor\":\"white\",\"linecolor\":\"white\",\"minorgridcolor\":\"white\",\"startlinecolor\":\"#2a3f5f\"},\"type\":\"carpet\"}],\"choropleth\":[{\"colorbar\":{\"outlinewidth\":0,\"ticks\":\"\"},\"type\":\"choropleth\"}],\"contour\":[{\"colorbar\":{\"outlinewidth\":0,\"ticks\":\"\"},\"colorscale\":[[0.0,\"#0d0887\"],[0.1111111111111111,\"#46039f\"],[0.2222222222222222,\"#7201a8\"],[0.3333333333333333,\"#9c179e\"],[0.4444444444444444,\"#bd3786\"],[0.5555555555555556,\"#d8576b\"],[0.6666666666666666,\"#ed7953\"],[0.7777777777777778,\"#fb9f3a\"],[0.8888888888888888,\"#fdca26\"],[1.0,\"#f0f921\"]],\"type\":\"contour\"}],\"contourcarpet\":[{\"colorbar\":{\"outlinewidth\":0,\"ticks\":\"\"},\"type\":\"contourcarpet\"}],\"heatmap\":[{\"colorbar\":{\"outlinewidth\":0,\"ticks\":\"\"},\"colorscale\":[[0.0,\"#0d0887\"],[0.1111111111111111,\"#46039f\"],[0.2222222222222222,\"#7201a8\"],[0.3333333333333333,\"#9c179e\"],[0.4444444444444444,\"#bd3786\"],[0.5555555555555556,\"#d8576b\"],[0.6666666666666666,\"#ed7953\"],[0.7777777777777778,\"#fb9f3a\"],[0.8888888888888888,\"#fdca26\"],[1.0,\"#f0f921\"]],\"type\":\"heatmap\"}],\"heatmapgl\":[{\"colorbar\":{\"outlinewidth\":0,\"ticks\":\"\"},\"colorscale\":[[0.0,\"#0d0887\"],[0.1111111111111111,\"#46039f\"],[0.2222222222222222,\"#7201a8\"],[0.3333333333333333,\"#9c179e\"],[0.4444444444444444,\"#bd3786\"],[0.5555555555555556,\"#d8576b\"],[0.6666666666666666,\"#ed7953\"],[0.7777777777777778,\"#fb9f3a\"],[0.8888888888888888,\"#fdca26\"],[1.0,\"#f0f921\"]],\"type\":\"heatmapgl\"}],\"histogram\":[{\"marker\":{\"pattern\":{\"fillmode\":\"overlay\",\"size\":10,\"solidity\":0.2}},\"type\":\"histogram\"}],\"histogram2d\":[{\"colorbar\":{\"outlinewidth\":0,\"ticks\":\"\"},\"colorscale\":[[0.0,\"#0d0887\"],[0.1111111111111111,\"#46039f\"],[0.2222222222222222,\"#7201a8\"],[0.3333333333333333,\"#9c179e\"],[0.4444444444444444,\"#bd3786\"],[0.5555555555555556,\"#d8576b\"],[0.6666666666666666,\"#ed7953\"],[0.7777777777777778,\"#fb9f3a\"],[0.8888888888888888,\"#fdca26\"],[1.0,\"#f0f921\"]],\"type\":\"histogram2d\"}],\"histogram2dcontour\":[{\"colorbar\":{\"outlinewidth\":0,\"ticks\":\"\"},\"colorscale\":[[0.0,\"#0d0887\"],[0.1111111111111111,\"#46039f\"],[0.2222222222222222,\"#7201a8\"],[0.3333333333333333,\"#9c179e\"],[0.4444444444444444,\"#bd3786\"],[0.5555555555555556,\"#d8576b\"],[0.6666666666666666,\"#ed7953\"],[0.7777777777777778,\"#fb9f3a\"],[0.8888888888888888,\"#fdca26\"],[1.0,\"#f0f921\"]],\"type\":\"histogram2dcontour\"}],\"mesh3d\":[{\"colorbar\":{\"outlinewidth\":0,\"ticks\":\"\"},\"type\":\"mesh3d\"}],\"parcoords\":[{\"line\":{\"colorbar\":{\"outlinewidth\":0,\"ticks\":\"\"}},\"type\":\"parcoords\"}],\"pie\":[{\"automargin\":true,\"type\":\"pie\"}],\"scatter\":[{\"marker\":{\"colorbar\":{\"outlinewidth\":0,\"ticks\":\"\"}},\"type\":\"scatter\"}],\"scatter3d\":[{\"line\":{\"colorbar\":{\"outlinewidth\":0,\"ticks\":\"\"}},\"marker\":{\"colorbar\":{\"outlinewidth\":0,\"ticks\":\"\"}},\"type\":\"scatter3d\"}],\"scattercarpet\":[{\"marker\":{\"colorbar\":{\"outlinewidth\":0,\"ticks\":\"\"}},\"type\":\"scattercarpet\"}],\"scattergeo\":[{\"marker\":{\"colorbar\":{\"outlinewidth\":0,\"ticks\":\"\"}},\"type\":\"scattergeo\"}],\"scattergl\":[{\"marker\":{\"colorbar\":{\"outlinewidth\":0,\"ticks\":\"\"}},\"type\":\"scattergl\"}],\"scattermapbox\":[{\"marker\":{\"colorbar\":{\"outlinewidth\":0,\"ticks\":\"\"}},\"type\":\"scattermapbox\"}],\"scatterpolar\":[{\"marker\":{\"colorbar\":{\"outlinewidth\":0,\"ticks\":\"\"}},\"type\":\"scatterpolar\"}],\"scatterpolargl\":[{\"marker\":{\"colorbar\":{\"outlinewidth\":0,\"ticks\":\"\"}},\"type\":\"scatterpolargl\"}],\"scatterternary\":[{\"marker\":{\"colorbar\":{\"outlinewidth\":0,\"ticks\":\"\"}},\"type\":\"scatterternary\"}],\"surface\":[{\"colorbar\":{\"outlinewidth\":0,\"ticks\":\"\"},\"colorscale\":[[0.0,\"#0d0887\"],[0.1111111111111111,\"#46039f\"],[0.2222222222222222,\"#7201a8\"],[0.3333333333333333,\"#9c179e\"],[0.4444444444444444,\"#bd3786\"],[0.5555555555555556,\"#d8576b\"],[0.6666666666666666,\"#ed7953\"],[0.7777777777777778,\"#fb9f3a\"],[0.8888888888888888,\"#fdca26\"],[1.0,\"#f0f921\"]],\"type\":\"surface\"}],\"table\":[{\"cells\":{\"fill\":{\"color\":\"#EBF0F8\"},\"line\":{\"color\":\"white\"}},\"header\":{\"fill\":{\"color\":\"#C8D4E3\"},\"line\":{\"color\":\"white\"}},\"type\":\"table\"}]},\"layout\":{\"annotationdefaults\":{\"arrowcolor\":\"#2a3f5f\",\"arrowhead\":0,\"arrowwidth\":1},\"autotypenumbers\":\"strict\",\"coloraxis\":{\"colorbar\":{\"outlinewidth\":0,\"ticks\":\"\"}},\"colorscale\":{\"diverging\":[[0,\"#8e0152\"],[0.1,\"#c51b7d\"],[0.2,\"#de77ae\"],[0.3,\"#f1b6da\"],[0.4,\"#fde0ef\"],[0.5,\"#f7f7f7\"],[0.6,\"#e6f5d0\"],[0.7,\"#b8e186\"],[0.8,\"#7fbc41\"],[0.9,\"#4d9221\"],[1,\"#276419\"]],\"sequential\":[[0.0,\"#0d0887\"],[0.1111111111111111,\"#46039f\"],[0.2222222222222222,\"#7201a8\"],[0.3333333333333333,\"#9c179e\"],[0.4444444444444444,\"#bd3786\"],[0.5555555555555556,\"#d8576b\"],[0.6666666666666666,\"#ed7953\"],[0.7777777777777778,\"#fb9f3a\"],[0.8888888888888888,\"#fdca26\"],[1.0,\"#f0f921\"]],\"sequentialminus\":[[0.0,\"#0d0887\"],[0.1111111111111111,\"#46039f\"],[0.2222222222222222,\"#7201a8\"],[0.3333333333333333,\"#9c179e\"],[0.4444444444444444,\"#bd3786\"],[0.5555555555555556,\"#d8576b\"],[0.6666666666666666,\"#ed7953\"],[0.7777777777777778,\"#fb9f3a\"],[0.8888888888888888,\"#fdca26\"],[1.0,\"#f0f921\"]]},\"colorway\":[\"#636efa\",\"#EF553B\",\"#00cc96\",\"#ab63fa\",\"#FFA15A\",\"#19d3f3\",\"#FF6692\",\"#B6E880\",\"#FF97FF\",\"#FECB52\"],\"font\":{\"color\":\"#2a3f5f\"},\"geo\":{\"bgcolor\":\"white\",\"lakecolor\":\"white\",\"landcolor\":\"#E5ECF6\",\"showlakes\":true,\"showland\":true,\"subunitcolor\":\"white\"},\"hoverlabel\":{\"align\":\"left\"},\"hovermode\":\"closest\",\"mapbox\":{\"style\":\"light\"},\"paper_bgcolor\":\"white\",\"plot_bgcolor\":\"#E5ECF6\",\"polar\":{\"angularaxis\":{\"gridcolor\":\"white\",\"linecolor\":\"white\",\"ticks\":\"\"},\"bgcolor\":\"#E5ECF6\",\"radialaxis\":{\"gridcolor\":\"white\",\"linecolor\":\"white\",\"ticks\":\"\"}},\"scene\":{\"xaxis\":{\"backgroundcolor\":\"#E5ECF6\",\"gridcolor\":\"white\",\"gridwidth\":2,\"linecolor\":\"white\",\"showbackground\":true,\"ticks\":\"\",\"zerolinecolor\":\"white\"},\"yaxis\":{\"backgroundcolor\":\"#E5ECF6\",\"gridcolor\":\"white\",\"gridwidth\":2,\"linecolor\":\"white\",\"showbackground\":true,\"ticks\":\"\",\"zerolinecolor\":\"white\"},\"zaxis\":{\"backgroundcolor\":\"#E5ECF6\",\"gridcolor\":\"white\",\"gridwidth\":2,\"linecolor\":\"white\",\"showbackground\":true,\"ticks\":\"\",\"zerolinecolor\":\"white\"}},\"shapedefaults\":{\"line\":{\"color\":\"#2a3f5f\"}},\"ternary\":{\"aaxis\":{\"gridcolor\":\"white\",\"linecolor\":\"white\",\"ticks\":\"\"},\"baxis\":{\"gridcolor\":\"white\",\"linecolor\":\"white\",\"ticks\":\"\"},\"bgcolor\":\"#E5ECF6\",\"caxis\":{\"gridcolor\":\"white\",\"linecolor\":\"white\",\"ticks\":\"\"}},\"title\":{\"x\":0.05},\"xaxis\":{\"automargin\":true,\"gridcolor\":\"white\",\"linecolor\":\"white\",\"ticks\":\"\",\"title\":{\"standoff\":15},\"zerolinecolor\":\"white\",\"zerolinewidth\":2},\"yaxis\":{\"automargin\":true,\"gridcolor\":\"white\",\"linecolor\":\"white\",\"ticks\":\"\",\"title\":{\"standoff\":15},\"zerolinecolor\":\"white\",\"zerolinewidth\":2}}}},                        {\"responsive\": true}                    ).then(function(){\n",
       "                            \n",
       "var gd = document.getElementById('e34e7fc6-e19a-46d4-bdac-24e8ae4cf2de');\n",
       "var x = new MutationObserver(function (mutations, observer) {{\n",
       "        var display = window.getComputedStyle(gd).display;\n",
       "        if (!display || display === 'none') {{\n",
       "            console.log([gd, 'removed!']);\n",
       "            Plotly.purge(gd);\n",
       "            observer.disconnect();\n",
       "        }}\n",
       "}});\n",
       "\n",
       "// Listen for the removal of the full notebook cells\n",
       "var notebookContainer = gd.closest('#notebook-container');\n",
       "if (notebookContainer) {{\n",
       "    x.observe(notebookContainer, {childList: true});\n",
       "}}\n",
       "\n",
       "// Listen for the clearing of the current output cell\n",
       "var outputEl = gd.closest('.output');\n",
       "if (outputEl) {{\n",
       "    x.observe(outputEl, {childList: true});\n",
       "}}\n",
       "\n",
       "                        })                };                });            </script>        </div>"
      ]
     },
     "metadata": {},
     "output_type": "display_data"
    }
   ],
   "source": [
    "fig = px.scatter_3d(plot_3d, x='c', y=\"β\", z=\"w\")\n",
    "fig.show()"
   ]
  },
  {
   "cell_type": "markdown",
   "id": "d3dc135e",
   "metadata": {},
   "source": [
    "Интерпретация:\n",
    "\n",
    "Размер резервной заработной платы положительно зависит как от параметра дисконтирования, так и от размера пособия, но второе влияет намного больше\n",
    "\n",
    "Каким бы важным ни было будущее(при высоком параметре дисконтирования) маленькое пособие сделает резервную зарплату маленькой(и наоборот)"
   ]
  },
  {
   "cell_type": "markdown",
   "id": "39c67ccf",
   "metadata": {},
   "source": [
    "### 9) Графики зависимости резервной зарплаты от дисконт-фактора, размера пособия, вероятности увольнения, и параметра 𝜎"
   ]
  },
  {
   "cell_type": "markdown",
   "id": "594045ef",
   "metadata": {},
   "source": [
    "Мы принимаем решение о предложенной зп, когда \n",
    "\n",
    "$w > \\bar w$ , где $\\bar w$ - резервная зп\n",
    "\n",
    "$v(\\bar w)$ =$u(c)$ + $\\beta$ * $d$"
   ]
  },
  {
   "cell_type": "code",
   "execution_count": 47,
   "id": "d25ca39a",
   "metadata": {},
   "outputs": [
    {
     "name": "stdout",
     "output_type": "stream",
     "text": [
      "\n",
      "Параметр дисконтирования отражает насколько важно получить зарплату сейчас => \n",
      " чем выше этот параметр,тем выше ожидаемая ценность отказа\n",
      "\n"
     ]
    },
    {
     "data": {
      "image/png": "[encoded data removed]",
      "text/plain": [
       "<Figure size 792x360 with 1 Axes>"
      ]
     },
     "metadata": {
      "needs_background": "light"
     },
     "output_type": "display_data"
    }
   ],
   "source": [
    "fig, ax = plt.subplots()\n",
    "\n",
    "mcm = McCallModel()\n",
    "w_bar_vals = np.empty_like(β_vals)\n",
    "\n",
    "for i, β in enumerate(β_vals):\n",
    "    mcm.β = β\n",
    "    w_bar = compute_reservation_wage(mcm)\n",
    "    w_bar_vals[i] = w_bar\n",
    "\n",
    "ax.set(xlabel='Параметр дисконтирования', ylabel='Резервная зарплата')\n",
    "ax.plot(β_vals, w_bar_vals, label=r'зависимость $\\bar w$ от $\\beta$')\n",
    "ax.legend()\n",
    "print('')\n",
    "print('Параметр дисконтирования отражает насколько важно получить зарплату сейчас => \\n чем выше этот параметр,тем выше ожидаемая ценность отказа')\n",
    "print('')\n",
    "plt.show()\n"
   ]
  },
  {
   "cell_type": "code",
   "execution_count": 48,
   "id": "cc40299d",
   "metadata": {},
   "outputs": [
    {
     "name": "stdout",
     "output_type": "stream",
     "text": [
      "\n",
      "Ожидаемая ценность отказа также будет зависеть положительно и от размера пособия, который предлагают\n",
      "\n"
     ]
    },
    {
     "data": {
      "image/png": "[encoded data removed]",
      "text/plain": [
       "<Figure size 792x360 with 1 Axes>"
      ]
     },
     "metadata": {
      "needs_background": "light"
     },
     "output_type": "display_data"
    }
   ],
   "source": [
    "fig, ax = plt.subplots()\n",
    "\n",
    "mcm = McCallModel(β = beta)\n",
    "w_bar_vals = np.empty_like(c_vals)\n",
    "\n",
    "for i, c in enumerate(c_vals):\n",
    "    mcm.c = c\n",
    "    w_bar = compute_reservation_wage(mcm)\n",
    "    w_bar_vals[i] = w_bar\n",
    "\n",
    "ax.set(xlabel='Размер пособия',\n",
    "       ylabel='Резервная зарплата')\n",
    "ax.plot(c_vals, w_bar_vals, label=r'зависимость $\\bar w$ от $с$')\n",
    "ax.legend()\n",
    "\n",
    "print('')\n",
    "print('Ожидаемая ценность отказа также будет зависеть положительно и от размера пособия, который предлагают')\n",
    "print('')\n",
    "plt.show()\n",
    "\n",
    "plt.show()"
   ]
  },
  {
   "cell_type": "code",
   "execution_count": 49,
   "id": "dc2ba093",
   "metadata": {},
   "outputs": [
    {
     "name": "stdout",
     "output_type": "stream",
     "text": [
      "\n",
      "С более высокой вероятностью увольнения падает ценность высокой зарплаты\n",
      "\n"
     ]
    },
    {
     "data": {
      "image/png": "[encoded data removed]",
      "text/plain": [
       "<Figure size 792x360 with 1 Axes>"
      ]
     },
     "metadata": {
      "needs_background": "light"
     },
     "output_type": "display_data"
    }
   ],
   "source": [
    "fig, ax = plt.subplots()\n",
    "\n",
    "mcm = McCallModel(β = beta)\n",
    "alpha_vals = np.linspace(0.05, 0.5, grid_size)\n",
    "w_bar_vals = np.empty_like(alpha_vals)\n",
    "\n",
    "for i, α in enumerate(alpha_vals):\n",
    "    mcm.α = α\n",
    "    w_bar = compute_reservation_wage(mcm)\n",
    "    w_bar_vals[i] = w_bar\n",
    "\n",
    "ax.set(xlabel='Вероятность увольнения', ylabel='Резервная зарплата')\n",
    "ax.plot(alpha_vals, w_bar_vals, label=r'зависимость $\\bar w$ от $\\alpha$')\n",
    "ax.legend()\n",
    "\n",
    "print('')\n",
    "print('С более высокой вероятностью увольнения падает ценность высокой зарплаты')\n",
    "print('')\n",
    "\n",
    "plt.show()"
   ]
  },
  {
   "cell_type": "code",
   "execution_count": 50,
   "id": "116981e3",
   "metadata": {},
   "outputs": [
    {
     "name": "stdout",
     "output_type": "stream",
     "text": [
      "\n",
      "Более высокие зарплаты в будущем становятся менее привлекательными при возрастании сигмы\n",
      "*возрастание параметра напрямую означает снижение функции полезности\n",
      "\n"
     ]
    },
    {
     "data": {
      "image/png": "[encoded data removed]",
      "text/plain": [
       "<Figure size 792x360 with 1 Axes>"
      ]
     },
     "metadata": {
      "needs_background": "light"
     },
     "output_type": "display_data"
    }
   ],
   "source": [
    "fig, ax = plt.subplots()\n",
    "\n",
    "\n",
    "σ_vals = np.linspace(0, 3, 15)\n",
    "w_bar_vals = np.empty_like(σ_vals)\n",
    "\n",
    "for i, j in enumerate(σ_vals):\n",
    "    mcm = McCallModel(σ = j, β = beta)\n",
    "    w_bar = compute_reservation_wage(mcm,σ = j)\n",
    "    w_bar_vals[i] = w_bar\n",
    "\n",
    "ax.set(xlabel='σ', ylabel='Резервная зарплата')\n",
    "ax.plot(σ_vals, w_bar_vals, label=r'зависимость $\\bar w$ от $σ$')\n",
    "ax.legend()\n",
    "\n",
    "print('')\n",
    "print('Более высокие зарплаты в будущем становятся менее привлекательными при возрастании сигмы')\n",
    "print('*возрастание параметра напрямую означает снижение функции полезности')\n",
    "print('')\n",
    "\n",
    "plt.show()"
   ]
  }
 ],
 "metadata": {
  "kernelspec": {
   "display_name": "Python 3",
   "language": "python",
   "name": "python3"
  },
  "language_info": {
   "codemirror_mode": {
    "name": "ipython",
    "version": 3
   },
   "file_extension": ".py",
   "mimetype": "text/x-python",
   "name": "python",
   "nbconvert_exporter": "python",
   "pygments_lexer": "ipython3",
   "version": "3.8.8"
  }
 },
 "nbformat": 4,
 "nbformat_minor": 5
}
